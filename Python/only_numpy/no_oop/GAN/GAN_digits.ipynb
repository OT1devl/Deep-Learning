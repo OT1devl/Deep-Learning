{
 "cells": [
  {
   "cell_type": "code",
   "execution_count": 1,
   "metadata": {
    "_cell_guid": "89c7f14c-e769-4079-827e-d1bbaceb776f",
    "_uuid": "de66ebcb-c40d-4ab2-b204-a30c90e88b48",
    "collapsed": false,
    "execution": {
     "iopub.execute_input": "2025-03-24T16:05:56.802409Z",
     "iopub.status.busy": "2025-03-24T16:05:56.801923Z",
     "iopub.status.idle": "2025-03-24T16:05:58.279216Z",
     "shell.execute_reply": "2025-03-24T16:05:58.277895Z",
     "shell.execute_reply.started": "2025-03-24T16:05:56.802365Z"
    },
    "jupyter": {
     "outputs_hidden": false
    },
    "trusted": true
   },
   "outputs": [],
   "source": [
    "import numpy as np\n",
    "import pandas as pd\n",
    "import matplotlib.pyplot as plt\n",
    "import os\n",
    "from IPython.display import clear_output\n",
    "import time\n",
    "import imageio\n",
    "import glob"
   ]
  },
  {
   "cell_type": "code",
   "execution_count": 2,
   "metadata": {},
   "outputs": [],
   "source": [
    "path = r\"\\datasets\\digits\" # Set the digit dataset.\n",
    "path_train = path + r'\\train.csv'\n",
    "path_test = path + r'\\test.csv'"
   ]
  },
  {
   "cell_type": "code",
   "execution_count": 3,
   "metadata": {
    "_cell_guid": "df3ad984-2814-4865-9f5a-75ff182da3d4",
    "_uuid": "2e5cf9a2-cc3a-4ffb-9a8d-01dcc2b370ec",
    "collapsed": false,
    "execution": {
     "iopub.execute_input": "2025-03-24T16:05:58.280896Z",
     "iopub.status.busy": "2025-03-24T16:05:58.280449Z",
     "iopub.status.idle": "2025-03-24T16:06:04.253199Z",
     "shell.execute_reply": "2025-03-24T16:06:04.251847Z",
     "shell.execute_reply.started": "2025-03-24T16:05:58.280870Z"
    },
    "jupyter": {
     "outputs_hidden": false
    },
    "trusted": true
   },
   "outputs": [],
   "source": [
    "train_data = np.array(pd.read_csv(path_train))\n",
    "test_data = np.array(pd.read_csv(path_test))"
   ]
  },
  {
   "cell_type": "code",
   "execution_count": 4,
   "metadata": {
    "_cell_guid": "30fdd96e-7470-4062-9c99-351e99940067",
    "_uuid": "ecfd7f47-dadb-413c-b00d-9b02e876f1db",
    "collapsed": false,
    "execution": {
     "iopub.execute_input": "2025-03-24T16:06:04.254674Z",
     "iopub.status.busy": "2025-03-24T16:06:04.254339Z",
     "iopub.status.idle": "2025-03-24T16:06:04.261327Z",
     "shell.execute_reply": "2025-03-24T16:06:04.259489Z",
     "shell.execute_reply.started": "2025-03-24T16:06:04.254650Z"
    },
    "jupyter": {
     "outputs_hidden": false
    },
    "trusted": true
   },
   "outputs": [],
   "source": [
    "def normalize_data(data, minimum=0, maximum=1):\n",
    "    return minimum+((data-np.min(data))/(np.max(data)-np.min(data)))*(maximum-minimum)"
   ]
  },
  {
   "cell_type": "code",
   "execution_count": 5,
   "metadata": {
    "_cell_guid": "3eeb14f9-9934-46af-8203-71f67d65468e",
    "_uuid": "baf79151-ce49-4aba-9a7c-d7c516872b71",
    "collapsed": false,
    "execution": {
     "iopub.execute_input": "2025-03-24T16:06:04.263376Z",
     "iopub.status.busy": "2025-03-24T16:06:04.262899Z",
     "iopub.status.idle": "2025-03-24T16:06:04.941184Z",
     "shell.execute_reply": "2025-03-24T16:06:04.939716Z",
     "shell.execute_reply.started": "2025-03-24T16:06:04.263336Z"
    },
    "jupyter": {
     "outputs_hidden": false
    },
    "trusted": true
   },
   "outputs": [],
   "source": [
    "x_train = normalize_data(train_data[:,1:], minimum=-1, maximum=1)\n",
    "x_test = normalize_data(test_data, minimum=-1, maximum=1)"
   ]
  },
  {
   "cell_type": "code",
   "execution_count": 6,
   "metadata": {
    "_cell_guid": "e5ed8bab-36fc-4def-93ed-4c186c4c0de6",
    "_uuid": "1bfda4ae-73c0-402f-85d7-63f0abfa9aab",
    "collapsed": false,
    "execution": {
     "iopub.execute_input": "2025-03-24T16:06:04.942899Z",
     "iopub.status.busy": "2025-03-24T16:06:04.942448Z",
     "iopub.status.idle": "2025-03-24T16:06:04.948586Z",
     "shell.execute_reply": "2025-03-24T16:06:04.947304Z",
     "shell.execute_reply.started": "2025-03-24T16:06:04.942858Z"
    },
    "jupyter": {
     "outputs_hidden": false
    },
    "trusted": true
   },
   "outputs": [],
   "source": [
    "total_data = x_train\n",
    "# total_data = np.concatenate([x_train, x_test], axis=0)"
   ]
  },
  {
   "cell_type": "code",
   "execution_count": 7,
   "metadata": {
    "_cell_guid": "769960ac-8dba-4f60-a139-6e2d1d2025f1",
    "_uuid": "43f6877c-c838-4b78-87c2-c4a27e51c55f",
    "collapsed": false,
    "execution": {
     "iopub.execute_input": "2025-03-24T16:06:04.953051Z",
     "iopub.status.busy": "2025-03-24T16:06:04.952587Z",
     "iopub.status.idle": "2025-03-24T16:06:04.976494Z",
     "shell.execute_reply": "2025-03-24T16:06:04.975256Z",
     "shell.execute_reply.started": "2025-03-24T16:06:04.952999Z"
    },
    "jupyter": {
     "outputs_hidden": false
    },
    "trusted": true
   },
   "outputs": [],
   "source": [
    "def ReLU(x, derv=False):\n",
    "    if derv: return np.where(x>0, 1, 0)\n",
    "    return np.maximum(x, 0)"
   ]
  },
  {
   "cell_type": "code",
   "execution_count": 8,
   "metadata": {
    "_cell_guid": "bf259f9b-5b8b-445d-a36c-bc381ed7d591",
    "_uuid": "6ab4df2d-7002-4a5a-a266-5c65b0a49f2a",
    "collapsed": false,
    "execution": {
     "iopub.execute_input": "2025-03-24T16:06:04.978854Z",
     "iopub.status.busy": "2025-03-24T16:06:04.978515Z",
     "iopub.status.idle": "2025-03-24T16:06:04.997880Z",
     "shell.execute_reply": "2025-03-24T16:06:04.996543Z",
     "shell.execute_reply.started": "2025-03-24T16:06:04.978826Z"
    },
    "jupyter": {
     "outputs_hidden": false
    },
    "trusted": true
   },
   "outputs": [],
   "source": [
    "def LeakyReLU(x, alpha=.2, derv=False):\n",
    "    if derv: return np.where(x>0, 1, alpha)\n",
    "    return np.where(x>0, x, x*alpha)"
   ]
  },
  {
   "cell_type": "code",
   "execution_count": 9,
   "metadata": {
    "_cell_guid": "2ae94a37-2d5d-46d4-84dc-43221e59241b",
    "_uuid": "9f4ce7b7-bb10-4d6d-a62f-5b7a51d50048",
    "collapsed": false,
    "execution": {
     "iopub.execute_input": "2025-03-24T16:06:04.999354Z",
     "iopub.status.busy": "2025-03-24T16:06:04.998961Z",
     "iopub.status.idle": "2025-03-24T16:06:05.020605Z",
     "shell.execute_reply": "2025-03-24T16:06:05.019128Z",
     "shell.execute_reply.started": "2025-03-24T16:06:04.999325Z"
    },
    "jupyter": {
     "outputs_hidden": false
    },
    "trusted": true
   },
   "outputs": [],
   "source": [
    "def sigmoid(x, derv=False):\n",
    "    s = 1 / (1 + np.exp(-x))\n",
    "    if derv: return s * (1 - s)\n",
    "    return s"
   ]
  },
  {
   "cell_type": "code",
   "execution_count": 10,
   "metadata": {
    "_cell_guid": "673c61de-04cb-4880-b854-4ccf580bbcc7",
    "_uuid": "4a852ea0-9663-4d44-8ff3-a2488e7e34bb",
    "collapsed": false,
    "execution": {
     "iopub.execute_input": "2025-03-24T16:06:05.022091Z",
     "iopub.status.busy": "2025-03-24T16:06:05.021709Z",
     "iopub.status.idle": "2025-03-24T16:06:05.044812Z",
     "shell.execute_reply": "2025-03-24T16:06:05.043306Z",
     "shell.execute_reply.started": "2025-03-24T16:06:05.022055Z"
    },
    "jupyter": {
     "outputs_hidden": false
    },
    "trusted": true
   },
   "outputs": [],
   "source": [
    "def tanh(x, derv=False):\n",
    "    if derv: return 1 - np.tanh(x)**2\n",
    "    return np.tanh(x)"
   ]
  },
  {
   "cell_type": "code",
   "execution_count": 11,
   "metadata": {
    "_cell_guid": "62a58fc4-06aa-4bb7-89d6-7703e3fab718",
    "_uuid": "10f7cef5-155b-434f-b9b6-6302f019b110",
    "collapsed": false,
    "execution": {
     "iopub.execute_input": "2025-03-24T16:06:05.046932Z",
     "iopub.status.busy": "2025-03-24T16:06:05.046631Z",
     "iopub.status.idle": "2025-03-24T16:06:05.067071Z",
     "shell.execute_reply": "2025-03-24T16:06:05.065822Z",
     "shell.execute_reply.started": "2025-03-24T16:06:05.046909Z"
    },
    "jupyter": {
     "outputs_hidden": false
    },
    "trusted": true
   },
   "outputs": [],
   "source": [
    "def BCE_loss(y_true, y_pred, epsilon=1e-8, derv=False):\n",
    "    if derv: return -y_true / (y_pred + epsilon) + (1 - y_true) / (1 - y_pred + epsilon)\n",
    "    return np.mean(-y_true * np.log(y_pred + epsilon) - (1 - y_true) * np.log(1 - y_pred + epsilon))"
   ]
  },
  {
   "cell_type": "code",
   "execution_count": 12,
   "metadata": {
    "_cell_guid": "9b86144a-f065-4eb3-907a-1fdcd17c1b53",
    "_uuid": "7062d191-2754-4344-880c-121aef26e45f",
    "collapsed": false,
    "execution": {
     "iopub.execute_input": "2025-03-24T16:06:05.068657Z",
     "iopub.status.busy": "2025-03-24T16:06:05.068309Z",
     "iopub.status.idle": "2025-03-24T16:06:05.090294Z",
     "shell.execute_reply": "2025-03-24T16:06:05.089114Z",
     "shell.execute_reply.started": "2025-03-24T16:06:05.068629Z"
    },
    "jupyter": {
     "outputs_hidden": false
    },
    "trusted": true
   },
   "outputs": [],
   "source": [
    "# Generator neurons\n",
    "z_dim = 100\n",
    "n_Ghidden0 = 256\n",
    "n_Ghidden1 = 512\n",
    "n_GOUT = x_train.shape[1]\n",
    "\n",
    "# Discriminator neurons\n",
    "n_DINPUT = x_train.shape[1]\n",
    "n_Dhidden0 = 512\n",
    "n_Dhidden1 = 256\n",
    "n_DOUT = 1"
   ]
  },
  {
   "cell_type": "code",
   "execution_count": 13,
   "metadata": {
    "_cell_guid": "d09ba254-ee61-4f70-9f5a-34e6e89b5d3b",
    "_uuid": "f2a1b49b-9cda-4463-85e6-9c31b6fb3a2f",
    "collapsed": false,
    "execution": {
     "iopub.execute_input": "2025-03-24T16:06:05.091756Z",
     "iopub.status.busy": "2025-03-24T16:06:05.091420Z",
     "iopub.status.idle": "2025-03-24T16:06:05.115537Z",
     "shell.execute_reply": "2025-03-24T16:06:05.114352Z",
     "shell.execute_reply.started": "2025-03-24T16:06:05.091728Z"
    },
    "jupyter": {
     "outputs_hidden": false
    },
    "trusted": true
   },
   "outputs": [],
   "source": [
    "num_imgs = 32\n",
    "seed = np.random.standard_normal(size=(num_imgs, z_dim))"
   ]
  },
  {
   "cell_type": "code",
   "execution_count": 14,
   "metadata": {
    "_cell_guid": "a1fa866f-ddf3-4bf4-b0df-c6efa55b6f51",
    "_uuid": "e11a061c-ad5e-4173-8a33-9f1c9cb17116",
    "collapsed": false,
    "execution": {
     "iopub.execute_input": "2025-03-24T16:06:05.117179Z",
     "iopub.status.busy": "2025-03-24T16:06:05.116841Z",
     "iopub.status.idle": "2025-03-24T16:06:05.182984Z",
     "shell.execute_reply": "2025-03-24T16:06:05.181278Z",
     "shell.execute_reply.started": "2025-03-24T16:06:05.117153Z"
    },
    "jupyter": {
     "outputs_hidden": false
    },
    "trusted": true
   },
   "outputs": [],
   "source": [
    "# Generator weights\n",
    "GW0 = np.random.randn(z_dim, n_Ghidden0).astype(np.float32) * np.sqrt(2/z_dim)\n",
    "GW1 = np.random.randn(n_Ghidden0, n_Ghidden1).astype(np.float32) * np.sqrt(2/n_Ghidden0)\n",
    "GW2 = np.random.randn(n_Ghidden1, n_GOUT).astype(np.float32) * np.sqrt(1/n_Ghidden1)\n",
    "\n",
    "# Generator biases\n",
    "Gb0 = np.zeros((1, n_Ghidden0)).astype(np.float32)\n",
    "Gb1 = np.zeros((1, n_Ghidden1)).astype(np.float32)\n",
    "Gb2 = np.zeros((1, n_GOUT)).astype(np.float32)\n",
    "\n",
    "# Discriminator weights\n",
    "DW0 = np.random.randn(n_DINPUT, n_Dhidden0).astype(np.float32) * np.sqrt(2/n_DINPUT)\n",
    "DW1 = np.random.randn(n_Dhidden0, n_Dhidden1).astype(np.float32) * np.sqrt(2/n_Dhidden0)\n",
    "DW2 = np.random.randn(n_Dhidden1, n_DOUT).astype(np.float32) * np.sqrt(1/n_Dhidden1)\n",
    "\n",
    "# Discriminator biases\n",
    "Db0 = np.zeros((1, n_Dhidden0)).astype(np.float32)\n",
    "Db1 = np.zeros((1, n_Dhidden1)).astype(np.float32)\n",
    "Db2 = np.zeros((1, n_DOUT)).astype(np.float32)\n",
    "\n",
    "# Parameters of GAN\n",
    "Generator_parameters = [GW0, Gb0, GW1, Gb1, GW2, Gb2]\n",
    "Gen_len = len(Generator_parameters)\n",
    "Discriminator_parameters = [DW0, Db0, DW1, Db1, DW2, Db2]\n",
    "Disc_len = len(Discriminator_parameters)"
   ]
  },
  {
   "cell_type": "code",
   "execution_count": 15,
   "metadata": {
    "_cell_guid": "d6055bf9-bcd0-4dd3-90c3-9da5f6e8f976",
    "_uuid": "463caf64-1c3c-4b54-b6dc-6231b138f45d",
    "collapsed": false,
    "execution": {
     "iopub.execute_input": "2025-03-24T16:06:05.184722Z",
     "iopub.status.busy": "2025-03-24T16:06:05.184375Z",
     "iopub.status.idle": "2025-03-24T16:06:05.190200Z",
     "shell.execute_reply": "2025-03-24T16:06:05.188769Z",
     "shell.execute_reply.started": "2025-03-24T16:06:05.184695Z"
    },
    "jupyter": {
     "outputs_hidden": false
    },
    "trusted": true
   },
   "outputs": [],
   "source": [
    "# Adam settings\n",
    "num_grads = Gen_len + Disc_len\n",
    "m = [0] * num_grads\n",
    "v = [0] * num_grads\n",
    "t_gen = 1\n",
    "t_disc = 1\n",
    "beta_1 = .5\n",
    "beta_2 = .999\n",
    "epsilon_adam = 1e-8"
   ]
  },
  {
   "cell_type": "code",
   "execution_count": 16,
   "metadata": {
    "_cell_guid": "7ab1a61d-8a94-4f58-b04f-8365a9a17497",
    "_uuid": "a1861e3f-a772-4612-9a5c-8a3fbb805f8e",
    "collapsed": false,
    "execution": {
     "iopub.execute_input": "2025-03-24T16:06:05.192198Z",
     "iopub.status.busy": "2025-03-24T16:06:05.191620Z",
     "iopub.status.idle": "2025-03-24T16:06:05.217611Z",
     "shell.execute_reply": "2025-03-24T16:06:05.215480Z",
     "shell.execute_reply.started": "2025-03-24T16:06:05.192156Z"
    },
    "jupyter": {
     "outputs_hidden": false
    },
    "trusted": true
   },
   "outputs": [],
   "source": [
    "def optimizer_adam(grad, t, i):\n",
    "    m[i] = beta_1 * m[i] + (1 - beta_1) * grad\n",
    "    v[i] = beta_2 * v[i] + (1 - beta_2) * np.power(grad, 2)\n",
    "    m_h = m[i] / (1 - beta_1 ** t)\n",
    "    v_h = v[i] / (1 - beta_2 ** t)\n",
    "    return m_h / (np.sqrt(v_h) + epsilon_adam)"
   ]
  },
  {
   "cell_type": "code",
   "execution_count": 17,
   "metadata": {
    "_cell_guid": "ba4ec40b-5e24-4154-ae9a-638d74cfcbc9",
    "_uuid": "4ae2fb64-e035-412d-9d65-6e532ceb4df6",
    "collapsed": false,
    "execution": {
     "iopub.execute_input": "2025-03-24T16:06:05.219264Z",
     "iopub.status.busy": "2025-03-24T16:06:05.218869Z",
     "iopub.status.idle": "2025-03-24T16:06:05.231546Z",
     "shell.execute_reply": "2025-03-24T16:06:05.230263Z",
     "shell.execute_reply.started": "2025-03-24T16:06:05.219226Z"
    },
    "jupyter": {
     "outputs_hidden": false
    },
    "trusted": true
   },
   "outputs": [],
   "source": [
    "def forward_G(z):\n",
    "    global z1g, z2g, z3g, a1g, a2g, a3g\n",
    "    z1g = z @ GW0 + Gb0\n",
    "    a1g = ReLU(z1g)\n",
    "    z2g = a1g @ GW1 + Gb1\n",
    "    a2g = ReLU(z2g)\n",
    "    z3g = a2g @ GW2 + Gb2\n",
    "    a3g = tanh(z3g)\n",
    "    return a3g"
   ]
  },
  {
   "cell_type": "code",
   "execution_count": 18,
   "metadata": {
    "_cell_guid": "9d81e5ae-d8f2-48fd-9382-735dd181e9e7",
    "_uuid": "ba5e7041-7c03-4b23-8338-1800cd8dab5c",
    "collapsed": false,
    "execution": {
     "iopub.execute_input": "2025-03-24T16:06:05.233830Z",
     "iopub.status.busy": "2025-03-24T16:06:05.233447Z",
     "iopub.status.idle": "2025-03-24T16:06:05.253145Z",
     "shell.execute_reply": "2025-03-24T16:06:05.251200Z",
     "shell.execute_reply.started": "2025-03-24T16:06:05.233800Z"
    },
    "jupyter": {
     "outputs_hidden": false
    },
    "trusted": true
   },
   "outputs": [],
   "source": [
    "def forward_D(x):\n",
    "    global z1d, z2d, z3d, a1d, a2d, a3d\n",
    "    z1d = x @ DW0 + Db0\n",
    "    a1d = LeakyReLU(z1d)\n",
    "    z2d = a1d @ DW1 + Db1\n",
    "    a2d = LeakyReLU(z2d)\n",
    "    z3d = a2d @ DW2 + Db2\n",
    "    a3d = sigmoid(z3d)\n",
    "    return a3d"
   ]
  },
  {
   "cell_type": "code",
   "execution_count": 19,
   "metadata": {
    "_cell_guid": "075301d9-2c9e-464f-b304-7bdfbf298088",
    "_uuid": "5fc30e2e-486c-45fd-b467-ffbffe83294d",
    "collapsed": false,
    "execution": {
     "iopub.execute_input": "2025-03-24T16:06:05.255566Z",
     "iopub.status.busy": "2025-03-24T16:06:05.254877Z",
     "iopub.status.idle": "2025-03-24T16:06:05.275928Z",
     "shell.execute_reply": "2025-03-24T16:06:05.274664Z",
     "shell.execute_reply.started": "2025-03-24T16:06:05.255514Z"
    },
    "jupyter": {
     "outputs_hidden": false
    },
    "trusted": true
   },
   "outputs": [],
   "source": [
    "def update_Generator(grads, lr):\n",
    "    for i in range(len(grads)):\n",
    "        Generator_parameters[i] -= lr * optimizer_adam(grads[i], t_gen, i)"
   ]
  },
  {
   "cell_type": "code",
   "execution_count": 20,
   "metadata": {
    "_cell_guid": "c61e8499-41c1-4e1f-8d02-a295b659e7d2",
    "_uuid": "bc6e26c1-84a7-4a8c-9999-6cf24d87e7c3",
    "collapsed": false,
    "execution": {
     "iopub.execute_input": "2025-03-24T16:06:05.277443Z",
     "iopub.status.busy": "2025-03-24T16:06:05.277117Z",
     "iopub.status.idle": "2025-03-24T16:06:05.305549Z",
     "shell.execute_reply": "2025-03-24T16:06:05.304200Z",
     "shell.execute_reply.started": "2025-03-24T16:06:05.277417Z"
    },
    "jupyter": {
     "outputs_hidden": false
    },
    "trusted": true
   },
   "outputs": [],
   "source": [
    "def update_Discriminator(grads, lr):\n",
    "    for i in range(len(grads)):\n",
    "        Discriminator_parameters[i] -= lr * optimizer_adam(grads[i], t_disc, i+Gen_len)"
   ]
  },
  {
   "cell_type": "code",
   "execution_count": 21,
   "metadata": {
    "_cell_guid": "56b9e324-c33c-4c5a-a748-d32e8aa641ca",
    "_uuid": "c1776a21-7bed-4a78-be95-b0be60fe76d0",
    "collapsed": false,
    "execution": {
     "iopub.execute_input": "2025-03-24T16:06:05.310391Z",
     "iopub.status.busy": "2025-03-24T16:06:05.309955Z",
     "iopub.status.idle": "2025-03-24T16:06:05.329719Z",
     "shell.execute_reply": "2025-03-24T16:06:05.328289Z",
     "shell.execute_reply.started": "2025-03-24T16:06:05.310364Z"
    },
    "jupyter": {
     "outputs_hidden": false
    },
    "trusted": true
   },
   "outputs": [],
   "source": [
    "def backward_D(x=None, y=None, outp=None, deltas=None, learn=True, lr=.001):\n",
    "    if y is not None:\n",
    "        dL = BCE_loss(y, outp, derv=True)\n",
    "    elif deltas is not None:\n",
    "        dL = deltas\n",
    "    else: raise ValueError('there is not (y) or (deltas)')\n",
    "    m = dL.shape[0]\n",
    "    dL *= sigmoid(z3d, derv=True)\n",
    "\n",
    "    dDW2 = a2d.T @ dL / m\n",
    "    dDb2 = np.sum(dL, axis=0, keepdims=True) / m\n",
    "\n",
    "    da2d = dL @ DW2.T\n",
    "    dz2d = da2d * LeakyReLU(z2d, derv=True)\n",
    "\n",
    "    dDW1 = a1d.T @ dz2d / m\n",
    "    dDb1 = np.sum(dz2d, axis=0, keepdims=True) / m\n",
    "\n",
    "    da1d = dz2d @ DW1.T\n",
    "    dz1d = da1d * LeakyReLU(z1d, derv=True)\n",
    "\n",
    "    dDW0 = x.T @ dz1d / m\n",
    "    dDb0 = np.sum(dz1d, axis=0, keepdims=True) / m\n",
    "\n",
    "    deltas = dz1d @ DW0.T\n",
    "\n",
    "    grad_Discriminator = [dDW0, dDb0, dDW1, dDb1, dDW2, dDb2]\n",
    "\n",
    "    if learn: update_Discriminator(grad_Discriminator, lr)\n",
    "    \n",
    "    return deltas, grad_Discriminator"
   ]
  },
  {
   "cell_type": "code",
   "execution_count": null,
   "metadata": {
    "_cell_guid": "cec386bb-a996-4d9b-b18c-8ab6c86e494d",
    "_uuid": "208c9f5f-a6d1-4012-af63-48eec2935961",
    "collapsed": false,
    "execution": {
     "iopub.execute_input": "2025-03-24T16:06:05.332351Z",
     "iopub.status.busy": "2025-03-24T16:06:05.331916Z",
     "iopub.status.idle": "2025-03-24T16:06:05.352864Z",
     "shell.execute_reply": "2025-03-24T16:06:05.351523Z",
     "shell.execute_reply.started": "2025-03-24T16:06:05.332322Z"
    },
    "jupyter": {
     "outputs_hidden": false
    },
    "trusted": true
   },
   "outputs": [],
   "source": [
    "def backward_G(x=None, y=None, outp=None, deltas=None, learn=True, lr=.001):\n",
    "    if y is not None:\n",
    "        dL = BCE_loss(y, outp, derv=True) # We are NOT going to use this line.\n",
    "    elif deltas is not None:\n",
    "        dL = deltas # We are going to use this line.\n",
    "    else: raise ValueError('there is not (y) or (deltas)')\n",
    "    m = dL.shape[0]\n",
    "    dL *= tanh(z3g, derv=True)\n",
    "\n",
    "    dGW2 = a2g.T @ dL / m\n",
    "    dGb2 = np.sum(dL, axis=0, keepdims=True) / m\n",
    "\n",
    "    da2g = dL @ GW2.T\n",
    "    dz2g = da2g * ReLU(z2g, derv=True)\n",
    "\n",
    "    dGW1 = a1g.T @ dz2g / m\n",
    "    dGb1 = np.sum(dz2g, axis=0, keepdims=True) / m\n",
    "\n",
    "    da1g = dz2g @ GW1.T\n",
    "    dz1g = da1g * ReLU(z1g, derv=True)\n",
    "\n",
    "    dGW0 = x.T @ dz1g / m\n",
    "    dGb0 = np.sum(dz1g, axis=0, keepdims=True) / m\n",
    "\n",
    "    deltas = dz1g @ GW0.T\n",
    "\n",
    "    grad_Generator = [dGW0, dGb0, dGW1, dGb1, dGW2, dGb2]\n",
    "\n",
    "    if learn: update_Generator(grad_Generator, lr)\n",
    "    \n",
    "    return deltas, grad_Generator"
   ]
  },
  {
   "cell_type": "code",
   "execution_count": 23,
   "metadata": {
    "_cell_guid": "f7deeabb-15a0-49b1-ba3d-3a81855a37ad",
    "_uuid": "1a21462c-a1bd-4371-a85e-60366acd7285",
    "collapsed": false,
    "execution": {
     "iopub.execute_input": "2025-03-24T16:06:05.354110Z",
     "iopub.status.busy": "2025-03-24T16:06:05.353738Z",
     "iopub.status.idle": "2025-03-24T16:06:05.378518Z",
     "shell.execute_reply": "2025-03-24T16:06:05.377357Z",
     "shell.execute_reply.started": "2025-03-24T16:06:05.354082Z"
    },
    "jupyter": {
     "outputs_hidden": false
    },
    "trusted": true
   },
   "outputs": [],
   "source": [
    "EPOCHS = 80\n",
    "BATCH_SIZE = 256\n",
    "LR = .001\n",
    "ALR_EPOCHS = 0\n",
    "imgs_path = r'Deep Learning\\Python\\only_numpy\\no_oop\\GAN\\digits_gan'"
   ]
  },
  {
   "cell_type": "code",
   "execution_count": 24,
   "metadata": {
    "_cell_guid": "032af352-5760-401d-a381-bd9e2a89bb27",
    "_uuid": "65ec958c-01d9-4b7e-a0de-5252ac198e8a",
    "collapsed": false,
    "execution": {
     "iopub.execute_input": "2025-03-24T16:06:05.380646Z",
     "iopub.status.busy": "2025-03-24T16:06:05.380249Z",
     "iopub.status.idle": "2025-03-24T16:06:05.400776Z",
     "shell.execute_reply": "2025-03-24T16:06:05.399533Z",
     "shell.execute_reply.started": "2025-03-24T16:06:05.380608Z"
    },
    "jupyter": {
     "outputs_hidden": false
    },
    "trusted": true
   },
   "outputs": [],
   "source": [
    "def generate_and_save_images(epoch, gen_loss, disc_loss):\n",
    "    clear_output(wait=True)\n",
    "    generated_imgs = forward_G(seed)\n",
    "    if not os.path.exists(imgs_path): os.makedirs(imgs_path)\n",
    "    rows = cols = int(seed.shape[0]**0.5)\n",
    "    if rows * cols < num_imgs:\n",
    "        cols += 1\n",
    "    fig, axes = plt.subplots(rows, cols, figsize=(6, 6))\n",
    "    fig.suptitle(f'Epoch: {epoch}, Gen Loss: {gen_loss:.4f}, Disc Loss: {disc_loss:.4f}', fontsize=12)\n",
    "    for i, ax in enumerate(axes.flat):\n",
    "        if i < num_imgs:\n",
    "            ax.imshow(generated_imgs[i].reshape(28, 28), cmap='gray')\n",
    "        ax.axis('off')\n",
    "    plt.savefig(os.path.join(imgs_path, f'generated_images_epoch_{epoch}.png'))\n",
    "    plt.show()"
   ]
  },
  {
   "cell_type": "code",
   "execution_count": 25,
   "metadata": {
    "_cell_guid": "7e4cc357-32fe-49fc-bb63-459de656e07e",
    "_uuid": "f59407a4-b2ff-4c3e-9d29-f2f6ef3878d9",
    "collapsed": false,
    "execution": {
     "iopub.execute_input": "2025-03-24T16:06:05.402440Z",
     "iopub.status.busy": "2025-03-24T16:06:05.402067Z",
     "iopub.status.idle": "2025-03-24T16:06:05.416247Z",
     "shell.execute_reply": "2025-03-24T16:06:05.415106Z",
     "shell.execute_reply.started": "2025-03-24T16:06:05.402413Z"
    },
    "jupyter": {
     "outputs_hidden": false
    },
    "trusted": true
   },
   "outputs": [],
   "source": [
    "def train_GAN(x, epochs, batch_size, verbose=True, lr=0.001):\n",
    "    global ALR_EPOCHS, t_gen, t_disc\n",
    "\n",
    "    half_batch = batch_size // 2\n",
    "    true_labels = np.ones((half_batch, 1))\n",
    "    false_labels = np.zeros((half_batch, 1))\n",
    "    labels = np.concatenate([true_labels, false_labels], axis=0)\n",
    "    gen_labels = np.ones((batch_size, 1))\n",
    "\n",
    "    if x.shape[0] % half_batch != 0:\n",
    "        x = x[:x.shape[0]-x.shape[0]%half_batch]\n",
    "\n",
    "    for epoch in range(1, epochs+1):\n",
    "        start = time.time()\n",
    "        for batch in range(0, x.shape[0], half_batch):\n",
    "            true_images = x[batch:batch+half_batch]\n",
    "            noise = np.random.standard_normal(size=(half_batch, z_dim))\n",
    "            fake_images = forward_G(noise)\n",
    "\n",
    "            images = np.concatenate([true_images, fake_images], axis=0)\n",
    "            preds = forward_D(images)\n",
    "            D_loss = BCE_loss(labels, preds)\n",
    "            backward_D(x=images, y=labels, outp=preds, learn=True, lr=lr)\n",
    "            t_disc += 1\n",
    "\n",
    "            noise = np.random.standard_normal(size=(batch_size, z_dim))\n",
    "            images = forward_G(noise)\n",
    "            preds = forward_D(images)\n",
    "            G_loss = BCE_loss(gen_labels, preds)\n",
    "            deltas = backward_D(x=preds, y=gen_labels, outp=preds, learn=False)[0]\n",
    "            backward_G(x=noise, deltas=deltas, learn=True, lr=lr)\n",
    "            t_gen += 1\n",
    "        if verbose:\n",
    "            end = time.time()\n",
    "            generate_and_save_images(epoch+ALR_EPOCHS, G_loss, D_loss)\n",
    "            print(f'GAN -> Epoch: [{epoch}/{epochs}] (in {end-start:.4f} seconds) G_loss: {G_loss:.4f} / D_loss:{D_loss:.4f}')\n",
    "    \n",
    "    ALR_EPOCHS+=epochs"
   ]
  },
  {
   "cell_type": "code",
   "execution_count": 26,
   "metadata": {
    "_cell_guid": "93512afd-d157-418a-b269-31053e061a9f",
    "_uuid": "9523a851-7d45-47f3-be2a-0ba531b795f1",
    "collapsed": false,
    "execution": {
     "execution_failed": "2025-03-24T16:12:54.579Z",
     "iopub.execute_input": "2025-03-24T16:06:05.417551Z",
     "iopub.status.busy": "2025-03-24T16:06:05.417283Z"
    },
    "jupyter": {
     "outputs_hidden": false
    },
    "trusted": true
   },
   "outputs": [
    {
     "data": {
      "image/png": "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",
      "text/plain": [
       "<Figure size 600x600 with 30 Axes>"
      ]
     },
     "metadata": {},
     "output_type": "display_data"
    },
    {
     "name": "stdout",
     "output_type": "stream",
     "text": [
      "GAN -> Epoch: [80/80] (in 65.4792 seconds) G_loss: 1.1216 / D_loss:0.5805\n"
     ]
    }
   ],
   "source": [
    "train_GAN(\n",
    "    x=x_train,\n",
    "    epochs=EPOCHS,\n",
    "    batch_size=BATCH_SIZE,\n",
    "    verbose=True,\n",
    "    lr=LR\n",
    ")"
   ]
  },
  {
   "cell_type": "code",
   "execution_count": 27,
   "metadata": {},
   ],
   "source": [
    "pattern = os.path.join(imgs_path, 'generated_images_epoch_*.png')\n",
    "img_files = sorted(glob.glob(pattern), key=lambda x: int(x.split('_')[-1].split('.')[0]))\n",
    "\n",
    "images = [imageio.imread(img) for img in img_files]\n",
    "gif_filename = os.path.join(imgs_path, 'training.gif')\n",
    "imageio.mimsave(gif_filename, images, duration=0.5)\n",
    "print(\"GIF guardado como:\", gif_filename)"
   ]
  }
 ],
 "metadata": {
  "kaggle": {
   "accelerator": "none",
   "dataSources": [
    {
     "datasetId": 5915318,
     "sourceId": 9678197,
     "sourceType": "datasetVersion"
    }
   ],
   "dockerImageVersionId": 30919,
   "isGpuEnabled": false,
   "isInternetEnabled": true,
   "language": "python",
   "sourceType": "notebook"
  },
  "kernelspec": {
   "display_name": "Python 3",
   "language": "python",
   "name": "python3"
  },
  "language_info": {
   "codemirror_mode": {
    "name": "ipython",
    "version": 3
   },
   "file_extension": ".py",
   "mimetype": "text/x-python",
   "name": "python",
   "nbconvert_exporter": "python",
   "pygments_lexer": "ipython3",
   "version": "3.9.10"
  }
 },
 "nbformat": 4,
 "nbformat_minor": 4
}
