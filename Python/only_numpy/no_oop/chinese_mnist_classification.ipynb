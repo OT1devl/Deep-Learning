{
 "cells": [
  {
   "cell_type": "code",
   "execution_count": 38,
   "metadata": {},
   "outputs": [],
   "source": [
    "import numpy as np\n",
    "import matplotlib.pyplot as plt\n",
    "import pandas as pd\n",
    "import time\n",
    "from IPython.display import clear_output"
   ]
  },
  {
   "cell_type": "code",
   "execution_count": 39,
   "metadata": {},
   "outputs": [],
   "source": [
    "np.random.seed(42)"
   ]
  },
  {
   "cell_type": "code",
   "execution_count": 40,
   "metadata": {},
   "outputs": [],
   "source": [
    "DTYPE = np.float32"
   ]
  },
  {
   "cell_type": "code",
   "execution_count": null,
   "metadata": {},
   "outputs": [],
   "source": [
    "path = r'\\Deep-Learning\\datasets\\chineseMNIST.csv'"
   ]
  },
  {
   "cell_type": "code",
   "execution_count": 42,
   "metadata": {},
   "outputs": [],
   "source": [
    "df = pd.read_csv(path)"
   ]
  },
  {
   "cell_type": "code",
   "execution_count": 43,
   "metadata": {},
   "outputs": [],
   "source": [
    "def one_hot(data, num_classes):\n",
    "    new_data = np.zeros((data.shape[0], num_classes))\n",
    "    new_data[np.arange(data.shape[0]), data] = 1\n",
    "    return new_data"
   ]
  },
  {
   "cell_type": "code",
   "execution_count": 44,
   "metadata": {},
   "outputs": [],
   "source": [
    "def shuffle(x, y=None):\n",
    "    KEYS = np.arange(x.shape[0])\n",
    "    np.random.shuffle(KEYS)\n",
    "    x = x[KEYS]\n",
    "\n",
    "    if y is not None:\n",
    "        y = y[KEYS]\n",
    "        return x, y\n",
    "    \n",
    "    return x"
   ]
  },
  {
   "cell_type": "code",
   "execution_count": 45,
   "metadata": {},
   "outputs": [],
   "source": [
    "def split_data(x, y=None, split=0.2):\n",
    "    x_test, x_train = x[:int(x.shape[0]*split)], x[int(x.shape[0]*split):]\n",
    "    \n",
    "    if y is not None:\n",
    "        y_test, y_train = y[:int(y.shape[0]*split)], y[int(y.shape[0]*split):]\n",
    "        return x_train, y_train, x_test, y_test\n",
    "    \n",
    "    return x_train, x_test"
   ]
  },
  {
   "cell_type": "code",
   "execution_count": 46,
   "metadata": {},
   "outputs": [],
   "source": [
    "def print_shapes(*data):\n",
    "    for d in data:\n",
    "        print(d.shape)"
   ]
  },
  {
   "cell_type": "code",
   "execution_count": 47,
   "metadata": {},
   "outputs": [],
   "source": [
    "df['label'].replace(100,11,inplace=True)\n",
    "df['label'].replace(1000,12,inplace=True)\n",
    "df['label'].replace(10000,13,inplace=True)\n",
    "df['label'].replace(100000000,14,inplace=True)\n",
    "clear_output()"
   ]
  },
  {
   "cell_type": "code",
   "execution_count": 48,
   "metadata": {},
   "outputs": [],
   "source": [
    "x = df.iloc[:, :-2]\n",
    "y = df.iloc[:, -2]\n",
    "simbols = df.iloc[:, -1]\n",
    "\n",
    "x, y = np.array(x).astype(DTYPE), np.array(y)"
   ]
  },
  {
   "cell_type": "code",
   "execution_count": 49,
   "metadata": {},
   "outputs": [],
   "source": [
    "table = dict(set((label, simbol) for label, simbol in zip(y, simbols)))"
   ]
  },
  {
   "cell_type": "code",
   "execution_count": 50,
   "metadata": {},
   "outputs": [],
   "source": [
    "y = one_hot(y, len(table)).astype(DTYPE)\n",
    "x = x / 255.0"
   ]
  },
  {
   "cell_type": "code",
   "execution_count": 51,
   "metadata": {},
   "outputs": [],
   "source": [
    "x, y = shuffle(x, y)"
   ]
  },
  {
   "cell_type": "code",
   "execution_count": 52,
   "metadata": {},
   "outputs": [],
   "source": [
    "x_train, y_train, x_test, y_test = split_data(x, y, split=0.2)"
   ]
  },
  {
   "cell_type": "code",
   "execution_count": 53,
   "metadata": {},
   "outputs": [
    {
     "name": "stdout",
     "output_type": "stream",
     "text": [
      "(12000, 4096)\n",
      "(12000, 15)\n",
      "(3000, 4096)\n",
      "(3000, 15)\n"
     ]
    }
   ],
   "source": [
    "print_shapes(x_train, y_train, x_test, y_test)"
   ]
  },
  {
   "cell_type": "code",
   "execution_count": 54,
   "metadata": {},
   "outputs": [
    {
     "name": "stdout",
     "output_type": "stream",
     "text": [
      "八\n"
     ]
    },
    {
     "data": {
      "image/png": "[encoded data removed]",
      "text/plain": [
       "<Figure size 640x480 with 1 Axes>"
      ]
     },
     "metadata": {},
     "output_type": "display_data"
    }
   ],
   "source": [
    "random_idx = np.random.randint(0, x_train.shape[0])\n",
    "random_simbol = table[np.argmax(y_train[random_idx])]\n",
    "random_image = x_train[random_idx]\n",
    "print(random_simbol)\n",
    "plt.imshow(random_image.reshape(64, 64), cmap='gray')\n",
    "plt.show()"
   ]
  },
  {
   "cell_type": "code",
   "execution_count": 55,
   "metadata": {},
   "outputs": [],
   "source": [
    "def ReLU(x, derv=False):\n",
    "    if derv: return np.where(x>0, 1, 0)\n",
    "    return np.maximum(x, 0)"
   ]
  },
  {
   "cell_type": "code",
   "execution_count": 56,
   "metadata": {},
   "outputs": [],
   "source": [
    "def softmax(x, derv=False):\n",
    "    x_exp = np.exp(x - np.max(x, axis=1, keepdims=True))\n",
    "    s = x_exp / np.sum(x_exp, axis=1, keepdims=True)\n",
    "    if derv: return s * (1 - s)\n",
    "    return s"
   ]
  },
  {
   "cell_type": "code",
   "execution_count": 57,
   "metadata": {},
   "outputs": [],
   "source": [
    "def CCE(y_true, y_pred, epsilon=1e-8, derv=False):\n",
    "    if derv: return y_pred - y_true # CCE + softmax\n",
    "    return -np.sum(y_true*np.log(y_pred + epsilon))"
   ]
  },
  {
   "cell_type": "code",
   "execution_count": 58,
   "metadata": {},
   "outputs": [],
   "source": [
    "def CategoricalAccuracy(y_true, y_pred):\n",
    "    return np.sum(np.argmax(y_true, axis=1) == np.argmax(y_pred, axis=1))"
   ]
  },
  {
   "cell_type": "code",
   "execution_count": 59,
   "metadata": {},
   "outputs": [],
   "source": [
    "n_INPUTS = x_train.shape[1]\n",
    "hidden_1 = 128\n",
    "hidden_2 = 64\n",
    "n_OUTPUTS = y_train.shape[1]"
   ]
  },
  {
   "cell_type": "code",
   "execution_count": 60,
   "metadata": {},
   "outputs": [],
   "source": [
    "W0 = np.random.randn(n_INPUTS, hidden_1).astype(DTYPE) * np.sqrt(2/n_INPUTS)\n",
    "b0 = np.zeros((1, hidden_1)).astype(DTYPE)\n",
    "\n",
    "W1 = np.random.randn(hidden_1, hidden_2).astype(DTYPE) * np.sqrt(2/hidden_1)\n",
    "b1 = np.zeros((1, hidden_2)).astype(DTYPE)\n",
    "\n",
    "W2 = np.random.randn(hidden_2, n_OUTPUTS).astype(DTYPE) * np.sqrt(2/hidden_2)\n",
    "b2 = np.zeros((1, n_OUTPUTS)).astype(DTYPE)\n",
    "\n",
    "params = [W0, b0, W1, b1, W2, b2]\n",
    "len_params = len(params)"
   ]
  },
  {
   "cell_type": "code",
   "execution_count": 61,
   "metadata": {},
   "outputs": [],
   "source": [
    "# Adam settings\n",
    "lr = 0.001\n",
    "current_lr = lr\n",
    "decay = 0\n",
    "beta_1 = 0.9\n",
    "beta_2 = 0.999\n",
    "t = 1\n",
    "m = [0] * len_params\n",
    "v = [0] * len_params\n",
    "epsilon_adam = 1e-8"
   ]
  },
  {
   "cell_type": "code",
   "execution_count": 62,
   "metadata": {},
   "outputs": [],
   "source": [
    "def prev_update():\n",
    "    global current_lr\n",
    "    if decay:\n",
    "        current_lr = lr * (1 / (1 + decay * t))"
   ]
  },
  {
   "cell_type": "code",
   "execution_count": 63,
   "metadata": {},
   "outputs": [],
   "source": [
    "def step():\n",
    "    global t\n",
    "    t += 1"
   ]
  },
  {
   "cell_type": "code",
   "execution_count": 64,
   "metadata": {},
   "outputs": [],
   "source": [
    "def optimizer_adam(grads, i):\n",
    "    m[i] = beta_1 * m[i] + (1 - beta_1) * grads\n",
    "    v[i] = beta_2 * v[i] + (1 - beta_2) * grads**2\n",
    "    m_h = m[i] / (1 - beta_1**t)\n",
    "    v_h = v[i] / (1 - beta_2**t)\n",
    "    return m_h / (np.sqrt(v_h) + epsilon_adam)"
   ]
  },
  {
   "cell_type": "code",
   "execution_count": 65,
   "metadata": {},
   "outputs": [],
   "source": [
    "def update_params(grads):\n",
    "    prev_update()\n",
    "    for i in range(len_params):\n",
    "        params[i] -= current_lr * optimizer_adam(grads[i], i)\n",
    "    step()"
   ]
  },
  {
   "cell_type": "code",
   "execution_count": 66,
   "metadata": {},
   "outputs": [],
   "source": [
    "def forward(x):\n",
    "    global z0, z1, z2, a0, a1, a2\n",
    "\n",
    "    z0 = x @ W0 + b0\n",
    "    a0 = ReLU(z0)\n",
    "\n",
    "    z1 = a0 @ W1 + b1\n",
    "    a1 = ReLU(z1)\n",
    "\n",
    "    z2 = a1 @ W2 + b2\n",
    "    a2 = softmax(z2)\n",
    "\n",
    "    return a2"
   ]
  },
  {
   "cell_type": "code",
   "execution_count": 67,
   "metadata": {},
   "outputs": [],
   "source": [
    "def backward(x=None, y=None, outp=None, dout=None, learn=True):\n",
    "    if y is not None:\n",
    "        dL = CCE(y, outp, derv=True)\n",
    "    elif dout is not None:\n",
    "        dL = dout\n",
    "    else: raise ValueError('there is no (y) or (dout).')\n",
    "    m = dL.shape[0]\n",
    "    # dL *= softmax(z2, derv=True) # Comented cuz CCE alr implements CCE + softmax\n",
    "\n",
    "    dW2 = a1.T @ dL / m\n",
    "    db2 = dL.sum(axis=0, keepdims=True) / m\n",
    "\n",
    "    da1 = dL @ W2.T\n",
    "    dz1 = da1 * ReLU(z1, derv=True)\n",
    "\n",
    "    dW1 = a0.T @ dz1 / m\n",
    "    db1 = dz1.sum(axis=0, keepdims=True) / m\n",
    "\n",
    "    da0 = dz1 @ W1.T\n",
    "    dz0 = da0 * ReLU(z0, derv=True)\n",
    "\n",
    "    dW0 = x.T @ dz0 / m\n",
    "    db0 = dz0.sum(axis=0, keepdims=True) / m\n",
    "\n",
    "    gradients = dW0, db0, dW1, db1, dW2, db2\n",
    "\n",
    "    dout = dz0 @ W0.T\n",
    "\n",
    "    if learn:\n",
    "        update_params(gradients)\n",
    "\n",
    "    return dout, gradients\n"
   ]
  },
  {
   "cell_type": "code",
   "execution_count": 68,
   "metadata": {},
   "outputs": [],
   "source": [
    "def train(x, y, epochs=10, batch_size=32, shuffle_data=True, verbose=True, print_every=0.1, x_test=None, y_test=None):\n",
    "\n",
    "    history_loss, history_acc = [], []\n",
    "\n",
    "    for ep in range(1, epochs+1):\n",
    "        \n",
    "        if shuffle_data:\n",
    "            x, y = shuffle(x, y)\n",
    "\n",
    "        loss_ep = 0.0\n",
    "        acc_ep = 0.0\n",
    "        start = time.time()\n",
    "\n",
    "        for i in range(0, x.shape[0], batch_size):\n",
    "            x_batch = x[i:i+batch_size]\n",
    "            y_batch = y[i:i+batch_size]\n",
    "\n",
    "            predictions = forward(x_batch)\n",
    "            loss_ep += CCE(y_batch, predictions)\n",
    "            acc_ep += CategoricalAccuracy(y_batch, predictions)\n",
    "            backward(x_batch, y_batch, predictions, learn=True)\n",
    "            print(f'EPOCH: {ep}, batch: [{i//batch_size+1}/{x.shape[0]//batch_size+1}]', end='\\r')\n",
    "        \n",
    "        avg_loss = loss_ep / x.shape[0]\n",
    "        avg_acc = acc_ep / x.shape[0]\n",
    "        avg_time = time.time()-start\n",
    "\n",
    "        history_loss.append(avg_loss)\n",
    "        history_acc.append(avg_acc)\n",
    "\n",
    "        if verbose and ep % max(1, int(epochs*print_every)) == 0:\n",
    "            message = f'Epoch: [{ep}/{epochs}] time: {avg_time:.2f} seconds > Loss: {avg_loss:.4f}, Acc: {avg_acc:.4f}'\n",
    "\n",
    "            if x_test is not None and y_test is not None:\n",
    "\n",
    "                loss_test = 0.0\n",
    "                acc_test = 0.0\n",
    "\n",
    "                for i in range(0, x_test.shape[0], batch_size):\n",
    "                    x_batch = x_test[i:i+batch_size]\n",
    "                    y_batch = y_test[i:i+batch_size]\n",
    "\n",
    "                    predictions = forward(x_batch)\n",
    "                    loss_test += CCE(y_batch, predictions)\n",
    "                    acc_test += CategoricalAccuracy(y_batch, predictions)\n",
    "                \n",
    "                avg_loss_test = loss_test / x_test.shape[0]\n",
    "                avg_acc_test = acc_test / x_test.shape[0]\n",
    "\n",
    "                message += f', Test Loss: {avg_loss_test:.4f}, Test Acc: {avg_acc_test:.4f}'\n",
    "            \n",
    "            print(message)\n",
    "\n",
    "    return history_loss, history_acc"
   ]
  },
  {
   "cell_type": "code",
   "execution_count": 69,
   "metadata": {},
   "outputs": [
    {
     "name": "stdout",
     "output_type": "stream",
     "text": [
      "Epoch: [1/10] time: 15.16 seconds > Loss: 1.7581, Acc: 0.4648, Test Loss: 1.2297, Test Acc: 0.6200\n",
      "Epoch: [2/10] time: 14.92 seconds > Loss: 0.8531, Acc: 0.7411, Test Loss: 0.8163, Test Acc: 0.7407\n",
      "Epoch: [3/10] time: 15.24 seconds > Loss: 0.5117, Acc: 0.8476, Test Loss: 0.6758, Test Acc: 0.7763\n",
      "Epoch: [4/10] time: 12.90 seconds > Loss: 0.3399, Acc: 0.8990, Test Loss: 0.6142, Test Acc: 0.8020\n",
      "Epoch: [5/10] time: 14.67 seconds > Loss: 0.2336, Acc: 0.9346, Test Loss: 0.6092, Test Acc: 0.7990\n",
      "Epoch: [6/10] time: 16.21 seconds > Loss: 0.1627, Acc: 0.9565, Test Loss: 0.5891, Test Acc: 0.8110\n",
      "Epoch: [7/10] time: 14.47 seconds > Loss: 0.1162, Acc: 0.9718, Test Loss: 0.6214, Test Acc: 0.8097\n",
      "Epoch: [8/10] time: 13.45 seconds > Loss: 0.0846, Acc: 0.9825, Test Loss: 0.6350, Test Acc: 0.8170\n",
      "Epoch: [9/10] time: 13.11 seconds > Loss: 0.0634, Acc: 0.9870, Test Loss: 0.6488, Test Acc: 0.8153\n",
      "Epoch: [10/10] time: 13.37 seconds > Loss: 0.0435, Acc: 0.9929, Test Loss: 0.6602, Test Acc: 0.8220\n"
     ]
    }
   ],
   "source": [
    "history_loss, history_acc = train(\n",
    "    x=x_train,\n",
    "    y=y_train,\n",
    "    epochs=10,\n",
    "    batch_size=32,\n",
    "    shuffle_data=True,\n",
    "    verbose=True,\n",
    "    print_every=0.1,\n",
    "    x_test=x_test,\n",
    "    y_test=y_test\n",
    ")"
   ]
  },
  {
   "cell_type": "code",
   "execution_count": 70,
   "metadata": {},
   "outputs": [
    {
     "data": {
      "image/png": "[encoded data removed]",
      "text/plain": [
       "<Figure size 1000x400 with 2 Axes>"
      ]
     },
     "metadata": {},
     "output_type": "display_data"
    }
   ],
   "source": [
    "plt.figure(figsize=(10, 4))\n",
    "\n",
    "plt.subplot(1, 2, 1)\n",
    "plt.plot(history_loss, label='Loss')\n",
    "plt.title('Training Loss')\n",
    "plt.xlabel('Epoch')\n",
    "plt.ylabel('Loss')\n",
    "plt.legend()\n",
    "\n",
    "plt.subplot(1, 2, 2)\n",
    "plt.plot(history_acc, label='Accuracy', color='orange')\n",
    "plt.title('Training Accuracy')\n",
    "plt.xlabel('Epoch')\n",
    "plt.ylabel('Accuracy')\n",
    "plt.legend()\n",
    "\n",
    "plt.tight_layout()\n",
    "plt.show()"
   ]
  },
  {
   "cell_type": "code",
   "execution_count": 71,
   "metadata": {},
   "outputs": [],
   "source": [
    "def get_accuracy(x, y):\n",
    "    loss = 0.0\n",
    "    acc = 0.0\n",
    "\n",
    "    for i in range(0, x.shape[0], 64):\n",
    "        x_batch = x[i:i+64]\n",
    "        y_batch = y[i:i+64]\n",
    "\n",
    "        predictions = forward(x_batch)\n",
    "        loss += CCE(y_batch, predictions)\n",
    "        acc += CategoricalAccuracy(y_batch, predictions)\n",
    "                \n",
    "    avg_loss = loss / x.shape[0]\n",
    "    avg_acc = acc / x.shape[0]\n",
    "    return avg_loss, avg_acc"
   ]
  },
  {
   "cell_type": "code",
   "execution_count": 72,
   "metadata": {},
   "outputs": [],
   "source": [
    "def predict_random_character():\n",
    "    random_idx = np.random.randint(0, x_test.shape[0])\n",
    "    random_simbol = table[np.argmax(y_test[random_idx])]\n",
    "    random_image = x_test[random_idx:random_idx+1]\n",
    "    model_prediction = forward(random_image)\n",
    "    model_simbol = table[np.argmax(model_prediction)]\n",
    "    print(f'Real Simbol: {random_simbol} | Model_predict: {model_simbol}')\n",
    "    plt.imshow(random_image.reshape(64, 64), cmap='gray')\n",
    "    plt.show()\n"
   ]
  },
  {
   "cell_type": "code",
   "execution_count": 73,
   "metadata": {},
   "outputs": [],
   "source": [
    "final_loss, final_acc = get_accuracy(x_test, y_test)"
   ]
  },
  {
   "cell_type": "code",
   "execution_count": 74,
   "metadata": {},
   "outputs": [
    {
     "name": "stdout",
     "output_type": "stream",
     "text": [
      "Final Loss: 0.6602 | Final Accuracy: 82.20%\n"
     ]
    }
   ],
   "source": [
    "print(f'Final Loss: {final_loss:.4f} | Final Accuracy: {final_acc:.2%}')"
   ]
  },
  {
   "cell_type": "markdown",
   "metadata": {},
   "source": [
    "### Final Accuracy: 81~83%"
   ]
  },
  {
   "cell_type": "code",
   "execution_count": 77,
   "metadata": {},
   "outputs": [
    {
     "name": "stdout",
     "output_type": "stream",
     "text": [
      "Real Simbol: 九 | Model_predict: 九\n"
     ]
    },
    {
     "data": {
      "image/png": "[encoded data removed]",
      "text/plain": [
       "<Figure size 640x480 with 1 Axes>"
      ]
     },
     "metadata": {},
     "output_type": "display_data"
    }
   ],
   "source": [
    "predict_random_character()"
   ]
  }
 ],
 "metadata": {
  "kernelspec": {
   "display_name": "Python 3",
   "language": "python",
   "name": "python3"
  },
  "language_info": {
   "codemirror_mode": {
    "name": "ipython",
    "version": 3
   },
   "file_extension": ".py",
   "mimetype": "text/x-python",
   "name": "python",
   "nbconvert_exporter": "python",
   "pygments_lexer": "ipython3",
   "version": "3.9.10"
  }
 },
 "nbformat": 4,
 "nbformat_minor": 2
}
