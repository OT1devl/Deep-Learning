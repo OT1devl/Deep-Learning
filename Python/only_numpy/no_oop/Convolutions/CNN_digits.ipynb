{
 "cells": [
  {
   "cell_type": "code",
   "execution_count": 174,
   "metadata": {},
   "outputs": [],
   "source": [
    "import numpy as np\n",
    "import pandas as pd\n",
    "import matplotlib.pyplot as plt"
   ]
  },
  {
   "cell_type": "code",
   "execution_count": null,
   "metadata": {},
   "outputs": [],
   "source": [
    "path = r'\\Deep Learning\\datasets\\digits'\n",
    "path_train = path + r'\\train.csv'\n",
    "path_test = path + r'\\test.csv'"
   ]
  },
  {
   "cell_type": "code",
   "execution_count": 176,
   "metadata": {},
   "outputs": [],
   "source": [
    "data_train = np.array(pd.read_csv(path_train))\n",
    "data_test = np.array(pd.read_csv(path_test))"
   ]
  },
  {
   "cell_type": "code",
   "execution_count": 177,
   "metadata": {},
   "outputs": [],
   "source": [
    "def one_hot(data, num_classes):\n",
    "    new_data = np.zeros((data.shape[0], num_classes))\n",
    "    new_data[np.arange(data.shape[0]), data] = 1\n",
    "    return new_data"
   ]
  },
  {
   "cell_type": "code",
   "execution_count": 178,
   "metadata": {},
   "outputs": [],
   "source": [
    "X_train = data_train[:, 1:] / 255.0\n",
    "y_train = one_hot(data_train[:, 0], 10)\n",
    "\n",
    "X_test = data_test / 255.0\n",
    "\n",
    "X_train = X_train.reshape(X_train.shape[0], 28, 28, 1).astype('float32')\n",
    "X_test = X_test.reshape(X_test.shape[0], 28, 28, 1).astype('float32')\n",
    "y_train = y_train.astype('float32')"
   ]
  },
  {
   "cell_type": "code",
   "execution_count": 179,
   "metadata": {},
   "outputs": [],
   "source": [
    "def im2col_strided(x, field_height, field_width, padding=1, stride=1):\n",
    "    m, H, W, C = x.shape\n",
    "    out_h = (H + 2 * padding - field_height) // stride + 1\n",
    "    out_w = (W + 2 * padding - field_width) // stride + 1\n",
    "    x_padded = np.pad(x, ((0, 0), (padding, padding), (padding, padding), (0, 0)), mode='constant')\n",
    "    shape = (m, out_h, out_w, field_height, field_width, C)\n",
    "    strides = (\n",
    "        x_padded.strides[0],\n",
    "        stride * x_padded.strides[1],\n",
    "        stride * x_padded.strides[2],\n",
    "        x_padded.strides[1],\n",
    "        x_padded.strides[2],\n",
    "        x_padded.strides[3]\n",
    "    )\n",
    "    return np.lib.stride_tricks.as_strided(x_padded, shape=shape, strides=strides), out_h, out_w"
   ]
  },
  {
   "cell_type": "code",
   "execution_count": 180,
   "metadata": {},
   "outputs": [],
   "source": [
    "def fast_convolution(x, W, b, padding=1, stride=1):\n",
    "    m, H, W_in, C = x.shape\n",
    "    f_h, f_w, _, num_filters = W.shape\n",
    "    x_strided, out_h, out_w = im2col_strided(x, f_h, f_w, padding, stride)\n",
    "    out = np.einsum('mxyhwc,hwck->mxyk', x_strided, W, optimize='optimal')\n",
    "    out += b\n",
    "    return out.reshape(m, out_h, out_w, num_filters)"
   ]
  },
  {
   "cell_type": "code",
   "execution_count": 181,
   "metadata": {},
   "outputs": [],
   "source": [
    "def fast_convolution_backprop(x, W, dout, padding=1, stride=1):\n",
    "    m, H, W_in, C = x.shape\n",
    "    f_h, f_w, _, num_filters = W.shape\n",
    "    x_strided, out_h, out_w = im2col_strided(x, f_h, f_w, padding, stride)\n",
    "    dout_reshaped = dout.reshape(m, out_h, out_w, num_filters)\n",
    "    \n",
    "    dW = np.einsum('mxyhwc,mxyk->hwck', x_strided, dout_reshaped, optimize='optimal')\n",
    "    \n",
    "    db = np.sum(dout_reshaped, axis=(0, 1, 2), keepdims=True)\n",
    "    \n",
    "    dx_strided = np.einsum('mxyk,hwck->mxyhwc', dout_reshaped, W, optimize='optimal')\n",
    "    dx_padded = np.zeros((m, H + 2 * padding, W_in + 2 * padding, C), dtype=x.dtype)\n",
    "    \n",
    "    for h in range(f_h):\n",
    "        for w in range(f_w):\n",
    "            dx_padded[:, h:h + stride*out_h:stride, w:w + stride*out_w:stride, :] += dx_strided[:, :, :, h, w, :]\n",
    "    \n",
    "    dx = dx_padded[:, padding:-padding, padding:-padding, :] if padding > 0 else dx_padded\n",
    "    return dx, dW, db"
   ]
  },
  {
   "cell_type": "code",
   "execution_count": 182,
   "metadata": {},
   "outputs": [],
   "source": [
    "def ReLU(x, derv=False):\n",
    "    if derv: return np.where(x>0, 1, 0)\n",
    "    return np.maximum(x, 0)"
   ]
  },
  {
   "cell_type": "code",
   "execution_count": 183,
   "metadata": {},
   "outputs": [],
   "source": [
    "def softmax(x, derv=False):\n",
    "    x_exp = np.exp(x - np.max(x, axis=1, keepdims=True))\n",
    "    s = x_exp / np.sum(x_exp, axis=1, keepdims=True)\n",
    "    if derv: return s * (1 - s)\n",
    "    return s"
   ]
  },
  {
   "cell_type": "code",
   "execution_count": 184,
   "metadata": {},
   "outputs": [],
   "source": [
    "def CCE(y, y_pred, epsilon=1e-8, derv=False):\n",
    "    if derv: return y_pred-y # CCE + softmax\n",
    "    return -np.mean(y*np.log(y_pred+epsilon))"
   ]
  },
  {
   "cell_type": "code",
   "execution_count": 185,
   "metadata": {},
   "outputs": [],
   "source": [
    "def accuracy(y, y_pred):\n",
    "    return np.mean(np.argmax(y, axis=1) == np.argmax(y_pred, axis=1))"
   ]
  },
  {
   "cell_type": "code",
   "execution_count": 186,
   "metadata": {},
   "outputs": [],
   "source": [
    "# Conv Layer\n",
    "IN_CHANNELS = 1\n",
    "OUT_CHANNELS = 4\n",
    "KERNEL = (3, 3)\n",
    "STRIDE = 1\n",
    "PADDING = 1\n",
    "\n",
    "conv_W = np.random.randn(KERNEL[0], KERNEL[1], IN_CHANNELS, OUT_CHANNELS) * 0.1\n",
    "conv_b = np.zeros((1, 1, 1, OUT_CHANNELS))\n",
    "\n",
    "conv_out = (X_train.shape[1], X_train.shape[2], OUT_CHANNELS)"
   ]
  },
  {
   "cell_type": "code",
   "execution_count": 187,
   "metadata": {},
   "outputs": [],
   "source": [
    "w_in = np.prod(conv_out)\n",
    "n_hidden = 64\n",
    "n_OUTPUTS = y_train.shape[1]"
   ]
  },
  {
   "cell_type": "code",
   "execution_count": 188,
   "metadata": {},
   "outputs": [],
   "source": [
    "W0 = np.random.randn(w_in, n_hidden) * np.sqrt(2/w_in)\n",
    "b0 = np.zeros((1, n_hidden))\n",
    "\n",
    "W1 = np.random.randn(n_hidden, n_OUTPUTS) * np.sqrt(2/n_hidden)\n",
    "b1 = np.zeros((1, n_OUTPUTS))\n",
    "\n",
    "params = [conv_W, conv_b, W0, b0, W1, b1]\n",
    "len_params = len(params)"
   ]
  },
  {
   "cell_type": "code",
   "execution_count": 189,
   "metadata": {},
   "outputs": [],
   "source": [
    "# Adam optimizer settings\n",
    "lr = 0.0005\n",
    "current_lr = lr\n",
    "decay = 0\n",
    "m = [0] * len_params\n",
    "v = [0] * len_params\n",
    "beta_1 = 0.9\n",
    "beta_2 = 0.999\n",
    "t = 1\n",
    "epsilon_adam = 1e-8"
   ]
  },
  {
   "cell_type": "code",
   "execution_count": 190,
   "metadata": {},
   "outputs": [],
   "source": [
    "def optimizer_adam(grads, i):\n",
    "    m[i] = beta_1 * m[i] + (1 - beta_1) * grads\n",
    "    v[i] = beta_2 * v[i] + (1 - beta_2) * grads**2\n",
    "    m_h = m[i] / (1 - beta_1**t)\n",
    "    v_h = v[i] / (1 - beta_2**t)\n",
    "    return m_h / (np.sqrt(v_h) + epsilon_adam)"
   ]
  },
  {
   "cell_type": "code",
   "execution_count": 191,
   "metadata": {},
   "outputs": [],
   "source": [
    "def pre_update():\n",
    "    global current_lr\n",
    "    if decay:\n",
    "        current_lr = lr * (1 / (1 + decay * t))"
   ]
  },
  {
   "cell_type": "code",
   "execution_count": 192,
   "metadata": {},
   "outputs": [],
   "source": [
    "def step():\n",
    "    global t\n",
    "    t += 1"
   ]
  },
  {
   "cell_type": "code",
   "execution_count": 193,
   "metadata": {},
   "outputs": [],
   "source": [
    "def update_params(grads):\n",
    "    pre_update()\n",
    "    for i in range(len_params):\n",
    "        params[i] -= current_lr * optimizer_adam(grads[i], i)\n",
    "    step()"
   ]
  },
  {
   "cell_type": "code",
   "execution_count": 194,
   "metadata": {},
   "outputs": [],
   "source": [
    "def forward(x):\n",
    "    global conv_out, conv_a, flat, z0, a0, z1, a1\n",
    "\n",
    "    conv_out = fast_convolution(x, conv_W, conv_b, padding=PADDING, stride=STRIDE)\n",
    "    conv_a = ReLU(conv_out)\n",
    "    flat = conv_a.reshape(conv_a.shape[0], -1)\n",
    "    \n",
    "    z0 = flat @ W0 + b0\n",
    "    a0 = ReLU(z0)\n",
    "\n",
    "    z1 = a0 @ W1 + b1\n",
    "    a1 = softmax(z1)\n",
    "\n",
    "    return a1\n"
   ]
  },
  {
   "cell_type": "code",
   "execution_count": 195,
   "metadata": {},
   "outputs": [],
   "source": [
    "def backward(x=None, y=None, outp=None, deltas=None, learn=True):\n",
    "    if y is not None:\n",
    "        dL = CCE(y, outp, derv=True)\n",
    "    elif deltas is not None:\n",
    "        dL = deltas\n",
    "    else: raise ValueError('there is no (y) or (deltas).')\n",
    "    m = dL.shape[0]\n",
    "    # dL *= softmax(z1, derv=True)\n",
    "\n",
    "    dW1 = a0.T @ dL / m\n",
    "    db1 = dL.sum(axis=0, keepdims=True) / m\n",
    "\n",
    "    da0 = dL @ W1.T\n",
    "    dz0 = da0 * ReLU(z0, derv=True)\n",
    "\n",
    "    dW0 = flat.T @ dz0 / m\n",
    "    db0 = dz0.sum(axis=0, keepdims=True) / m\n",
    "\n",
    "    dflat = dz0 @ W0.T\n",
    "    dconv_a = dflat.reshape(conv_a.shape)\n",
    "    dconv = dconv_a * ReLU(conv_out, derv=True)\n",
    "\n",
    "    dx_conv, dconv_W, dconv_b = fast_convolution_backprop(x, conv_W, dconv, padding=PADDING, stride=STRIDE)\n",
    "\n",
    "    grads = dconv_W, dconv_b, dW0, db0, dW1, db1\n",
    "\n",
    "    if learn:\n",
    "        update_params(grads)\n",
    "\n",
    "    return dx_conv, grads"
   ]
  },
  {
   "cell_type": "code",
   "execution_count": 196,
   "metadata": {},
   "outputs": [],
   "source": [
    "def train(x, y, epochs=50, batch_size=128, print_every=0.1):\n",
    "    losses = []\n",
    "    accuracies = []\n",
    "    for epoch in range(1, epochs + 1):\n",
    "        indices = np.arange(x.shape[0])\n",
    "        np.random.shuffle(indices)\n",
    "        x = x[indices]\n",
    "        y = y[indices]\n",
    "        \n",
    "        epoch_loss = 0.0\n",
    "        epoch_acc = 0.0\n",
    "        num_batches = 0\n",
    "        \n",
    "        for i in range(0, x.shape[0], batch_size):\n",
    "            x_batch = x[i:i+batch_size]\n",
    "            y_batch = y[i:i+batch_size]\n",
    "            preds = forward(x_batch)\n",
    "            loss = CCE(y_batch, preds)\n",
    "            acc = accuracy(y_batch, preds)\n",
    "            epoch_loss += loss\n",
    "            epoch_acc += acc\n",
    "            num_batches += 1\n",
    "            \n",
    "            backward(x_batch, y_batch, outp=preds, learn=True)\n",
    "            print(f\"Epoch {epoch}, Batch {i//batch_size + 1}\", end='\\r')\n",
    "        \n",
    "        avg_loss = epoch_loss / num_batches\n",
    "        avg_acc = epoch_acc / num_batches\n",
    "        losses.append(avg_loss)\n",
    "        accuracies.append(avg_acc)\n",
    "        if epoch % max(1, int(epochs * print_every)) == 0:\n",
    "            print(f'Epoch: [{epoch}/{epochs}]> Loss: {avg_loss:.4f}, Acc: {avg_acc:.4f}')\n",
    "    return losses, accuracies"
   ]
  },
  {
   "cell_type": "code",
   "execution_count": 197,
   "metadata": {},
   "outputs": [
    {
     "name": "stdout",
     "output_type": "stream",
     "text": [
      "Epoch: [1/10]> Loss: 0.0598, Acc: 0.8468\n",
      "Epoch: [2/10]> Loss: 0.0249, Acc: 0.9271\n",
      "Epoch: [3/10]> Loss: 0.0193, Acc: 0.9433\n",
      "Epoch: [4/10]> Loss: 0.0154, Acc: 0.9540\n",
      "Epoch: [5/10]> Loss: 0.0128, Acc: 0.9623\n",
      "Epoch: [6/10]> Loss: 0.0108, Acc: 0.9673\n",
      "Epoch: [7/10]> Loss: 0.0094, Acc: 0.9720\n",
      "Epoch: [8/10]> Loss: 0.0081, Acc: 0.9758\n",
      "Epoch: [9/10]> Loss: 0.0074, Acc: 0.9772\n",
      "Epoch: [10/10]> Loss: 0.0065, Acc: 0.9810\n"
     ]
    }
   ],
   "source": [
    "history_loss, history_acc = train(\n",
    "    x=X_train,\n",
    "    y=y_train,\n",
    "    epochs=10,\n",
    "    batch_size=128,\n",
    "    print_every=0.1\n",
    ")"
   ]
  },
  {
   "cell_type": "code",
   "execution_count": 198,
   "metadata": {},
   "outputs": [
    {
     "data": {
      "image/png": "[encoded data removed]",
      "text/plain": [
       "<Figure size 1000x400 with 2 Axes>"
      ]
     },
     "metadata": {},
     "output_type": "display_data"
    }
   ],
   "source": [
    "plt.figure(figsize=(10, 4))\n",
    "\n",
    "plt.subplot(1, 2, 1)\n",
    "plt.plot(history_loss, label='Loss')\n",
    "plt.title('Training Loss')\n",
    "plt.xlabel('Epoch')\n",
    "plt.ylabel('Loss')\n",
    "plt.legend()\n",
    "\n",
    "plt.subplot(1, 2, 2)\n",
    "plt.plot(history_acc, label='Accuracy', color='orange')\n",
    "plt.title('Training Accuracy')\n",
    "plt.xlabel('Epoch')\n",
    "plt.ylabel('Accuracy')\n",
    "plt.legend()\n",
    "\n",
    "plt.tight_layout()\n",
    "plt.show()"
   ]
  },
  {
   "cell_type": "code",
   "execution_count": 199,
   "metadata": {},
   "outputs": [],
   "source": [
    "def predict_and_show(x_test):\n",
    "    idx = np.random.randint(0, x_test.shape[0])\n",
    "    img = x_test[idx:idx+1]\n",
    "    preds = forward(img)\n",
    "    pred_digit = np.argmax(preds, axis=1)[0]\n",
    "    conv_output = conv_a[0]\n",
    "    num_channels = conv_output.shape[-1]\n",
    "    fig, axes = plt.subplots(1, num_channels + 2, figsize=(3*(num_channels+2), 4))\n",
    "    axes[0].imshow(img[0, :, :, 0], cmap='gray')\n",
    "    axes[0].set_title(\"Test Image\")\n",
    "    axes[0].axis('off')\n",
    "    for i in range(num_channels):\n",
    "        axes[i+1].imshow(conv_output[:, :, i], cmap='gray')\n",
    "        axes[i+1].set_title(f\"Channel {i}\")\n",
    "        axes[i+1].axis('off')\n",
    "    axes[-1].text(0.5, 0.5, f'Prediction:\\n{pred_digit}', fontsize=18, ha='center', va='center')\n",
    "    axes[-1].set_title(\"Prediction\")\n",
    "    axes[-1].axis('off')\n",
    "    plt.tight_layout()\n",
    "    plt.show()"
   ]
  },
  {
   "cell_type": "code",
   "execution_count": 200,
   "metadata": {},
   "outputs": [
    {
     "data": {
      "image/png": "[encoded data removed]",
      "text/plain": [
       "<Figure size 1800x400 with 6 Axes>"
      ]
     },
     "metadata": {},
     "output_type": "display_data"
    }
   ],
   "source": [
    "predict_and_show(X_test)"
   ]
  }
 ],
 "metadata": {
  "kernelspec": {
   "display_name": "Python 3",
   "language": "python",
   "name": "python3"
  },
  "language_info": {
   "codemirror_mode": {
    "name": "ipython",
    "version": 3
   },
   "file_extension": ".py",
   "mimetype": "text/x-python",
   "name": "python",
   "nbconvert_exporter": "python",
   "pygments_lexer": "ipython3",
   "version": "3.9.10"
  }
 },
 "nbformat": 4,
 "nbformat_minor": 2
}
