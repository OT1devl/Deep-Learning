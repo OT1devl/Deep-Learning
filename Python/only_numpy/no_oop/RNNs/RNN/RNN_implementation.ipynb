{
 "cells": [
  {
   "cell_type": "code",
   "execution_count": 6,
   "metadata": {},
   "outputs": [],
   "source": [
    "import numpy as np"
   ]
  },
  {
   "cell_type": "code",
   "execution_count": 7,
   "metadata": {},
   "outputs": [],
   "source": [
    "def tanh(x, derv=False):\n",
    "    if derv: return 1 - np.tanh(x)**2\n",
    "    return np.tanh(x)"
   ]
  },
  {
   "cell_type": "code",
   "execution_count": 8,
   "metadata": {},
   "outputs": [],
   "source": [
    "def derv_tanh(x):\n",
    "    return 1 - x**2"
   ]
  },
  {
   "cell_type": "code",
   "execution_count": 9,
   "metadata": {},
   "outputs": [],
   "source": [
    "def MSE(y, y_pred, derv=False):\n",
    "    if derv: return 2*(y_pred-y)\n",
    "    return np.mean((y_pred-y)**2)"
   ]
  },
  {
   "cell_type": "code",
   "execution_count": 10,
   "metadata": {},
   "outputs": [],
   "source": [
    "INPUT_SIZE = 1\n",
    "HIDDEN_SIZE = 50"
   ]
  },
  {
   "cell_type": "code",
   "execution_count": 11,
   "metadata": {},
   "outputs": [],
   "source": [
    "Wx = np.random.randn(INPUT_SIZE, HIDDEN_SIZE) * np.sqrt(2/(INPUT_SIZE+HIDDEN_SIZE))\n",
    "Wh = np.random.randn(HIDDEN_SIZE, HIDDEN_SIZE) * np.sqrt(1/HIDDEN_SIZE)\n",
    "\n",
    "bh = np.zeros((1, HIDDEN_SIZE))\n",
    "\n",
    "params = [Wx, Wh, bh]\n",
    "len_params = len(params)"
   ]
  },
  {
   "cell_type": "code",
   "execution_count": 12,
   "metadata": {},
   "outputs": [],
   "source": [
    "def update_params(grads, lr):\n",
    "    for i in range(len_params):\n",
    "        params[i] -= lr * grads[i]"
   ]
  },
  {
   "cell_type": "code",
   "execution_count": 13,
   "metadata": {},
   "outputs": [],
   "source": [
    "def forward_cell(xt, h_prev):\n",
    "    ht = tanh(xt @ Wx + h_prev @ Wh + bh)\n",
    "    return ht"
   ]
  },
  {
   "cell_type": "code",
   "execution_count": 14,
   "metadata": {},
   "outputs": [],
   "source": [
    "def forward(x):\n",
    "    global H\n",
    "    T = x.shape[0]\n",
    "\n",
    "    H = np.zeros((T+1, HIDDEN_SIZE))\n",
    "\n",
    "    for t in range(T):\n",
    "        H[t+1] = forward_cell(x[t:t+1], H[t:t+1])\n",
    "    \n",
    "    return H[1:] # first doesn't count"
   ]
  },
  {
   "cell_type": "code",
   "execution_count": 15,
   "metadata": {},
   "outputs": [
    {
     "data": {
      "text/plain": [
       "array([[ 0.04061895,  0.1512158 , -0.39896935, ...,  0.18427197,\n",
       "         0.00766315, -0.09402148],\n",
       "       [ 0.10986396,  0.33560756,  0.16270822, ...,  0.10644192,\n",
       "         0.17815665,  0.25940096],\n",
       "       [ 0.03510306, -0.31307622,  0.47600725, ...,  0.36293341,\n",
       "         0.01041293,  0.29119811],\n",
       "       ...,\n",
       "       [ 0.06711985,  0.27441649, -0.0348259 , ...,  0.44030201,\n",
       "        -0.67727833,  0.16354043],\n",
       "       [ 0.5431602 ,  0.78339917, -0.37900372, ...,  0.23222014,\n",
       "        -0.75629314, -0.27303233],\n",
       "       [ 0.31577465,  0.41463568,  0.59907025, ...,  0.15891222,\n",
       "         0.1152826 , -0.1204433 ]])"
      ]
     },
     "execution_count": 15,
     "metadata": {},
     "output_type": "execute_result"
    }
   ],
   "source": [
    "forward(np.random.randn(32, INPUT_SIZE))"
   ]
  },
  {
   "cell_type": "code",
   "execution_count": 16,
   "metadata": {},
   "outputs": [],
   "source": [
    "def backward_cell(dL, xt, ht, h_prev):\n",
    "    dL *= derv_tanh(ht)\n",
    "\n",
    "    dbh = np.sum(dL, axis=0, keepdims=True)\n",
    "\n",
    "    dWx = xt.T @ dL\n",
    "    dWh = h_prev.T @ dL\n",
    "\n",
    "    dh_t = dL @ Wh.T\n",
    "    dxt = dL @ Wx.T\n",
    "\n",
    "    return dWx, dWh, dbh, dh_t, dxt"
   ]
  },
  {
   "cell_type": "code",
   "execution_count": 17,
   "metadata": {},
   "outputs": [],
   "source": [
    "def backward(x, y_true, y_pred, learn=True, lr=0.001):\n",
    "    T = x.shape[0]\n",
    "\n",
    "    dWx = np.zeros_like(Wx)\n",
    "    dWh = np.zeros_like(Wh)\n",
    "    dbh = np.zeros_like(bh)\n",
    "\n",
    "    dh_next = np.zeros((1, HIDDEN_SIZE))\n",
    "    dx =  np.zeros_like(x)\n",
    "\n",
    "    for t in reversed(range(T)):\n",
    "        dL = MSE(y_true[t:t+1], y_pred[t:t+1], derv=True) + dh_next\n",
    "        dWxt, dWht, dbht, dh_next, dx[t] = backward_cell(dL, x[t:t+1], H[t+1:t+2], H[t:t+1])\n",
    "\n",
    "        dWx += dWxt; dWh += dWht; dbh += dbht\n",
    "    \n",
    "    dWx /= T; dWh /= T; dbh /= T\n",
    "\n",
    "    grads = dWx, dWh, dbh\n",
    "\n",
    "    if learn:\n",
    "        update_params(grads, lr)\n",
    "\n",
    "    return dx, grads"
   ]
  },
  {
   "cell_type": "code",
   "execution_count": 18,
   "metadata": {},
   "outputs": [
    {
     "data": {
      "text/plain": [
       "(array([[  2.21836889],\n",
       "        [ -7.61610215],\n",
       "        [ 21.39992747],\n",
       "        [-16.32424907],\n",
       "        [  3.92139076],\n",
       "        [  4.06652168],\n",
       "        [ -3.69590651],\n",
       "        [-12.96135489],\n",
       "        [ 16.45571603],\n",
       "        [  3.70971078],\n",
       "        [ -2.91483322],\n",
       "        [  1.59262533],\n",
       "        [ -0.10275175],\n",
       "        [  6.24988439],\n",
       "        [  0.94776707],\n",
       "        [ -5.25563092],\n",
       "        [  2.23336114],\n",
       "        [  3.40135861],\n",
       "        [ -1.41230809],\n",
       "        [ -0.66241665],\n",
       "        [  8.38557864],\n",
       "        [ 13.6989793 ],\n",
       "        [ 10.68346322],\n",
       "        [  0.8914597 ],\n",
       "        [ -1.50276025],\n",
       "        [ -5.92872839],\n",
       "        [ 10.34404474],\n",
       "        [  8.08176741],\n",
       "        [  0.28259749],\n",
       "        [  0.24358292],\n",
       "        [ -7.97485956],\n",
       "        [ -5.36405107]]),\n",
       " (array([[-0.35288612,  0.54202461, -0.96170264, -1.12584402, -0.15181505,\n",
       "          -0.18445938, -0.30773252, -1.14915786,  0.88554284,  0.83684734,\n",
       "           1.34289551, -0.86444255, -0.6586002 , -0.05894666,  0.60923191,\n",
       "          -0.30063274,  0.71775421,  0.71615761, -0.9424258 ,  0.80411753,\n",
       "           0.32622742, -0.34751739,  0.37951203, -0.10701164, -0.92897107,\n",
       "          -0.91319993, -1.39129862,  0.31078698, -0.04986669, -0.76737807,\n",
       "          -1.05885097, -0.06093365,  1.08667267,  1.13646733, -0.64378034,\n",
       "          -0.57963292,  0.55381503, -0.13381288, -1.43393452, -0.76685033,\n",
       "          -0.11063954, -1.04382873, -0.16569382,  1.29167752,  0.85080859,\n",
       "           0.52481772, -1.96461867, -0.33025279, -0.91965682,  0.13862281]]),\n",
       "  array([[ 0.05429924,  0.02554172,  0.0907981 , ...,  0.11515291,\n",
       "           0.00305935, -0.164303  ],\n",
       "         [ 0.33890851,  0.08852348,  0.1413917 , ..., -0.08412706,\n",
       "          -0.5356455 , -0.36250017],\n",
       "         [-0.55055208, -0.42034867,  0.23455138, ...,  0.45961219,\n",
       "           0.28167055,  0.09240669],\n",
       "         ...,\n",
       "         [ 0.1866617 , -0.1801327 , -0.2068544 , ..., -0.14736093,\n",
       "           0.3736001 , -0.29941766],\n",
       "         [ 0.18882753, -0.1080902 ,  0.16433428, ...,  0.07558781,\n",
       "           0.09395164,  0.30440355],\n",
       "         [-0.45191662, -0.04802174, -0.07724559, ..., -0.11440906,\n",
       "          -0.13735667, -0.25334064]]),\n",
       "  array([[-1.34017534, -0.19358257,  1.83152134,  0.34510833,  0.04153954,\n",
       "           2.3860658 ,  0.97959459,  0.85416594, -2.82740957,  0.11337095,\n",
       "           2.69839778,  0.04022258,  1.91679928, -0.97609826,  4.61462337,\n",
       "          -0.30131173,  1.81654556, -1.45424777,  0.00624161,  2.45949095,\n",
       "           1.82261533, -1.06986014,  3.93475799,  0.1000921 ,  2.21989807,\n",
       "          -1.72221956, -3.21790297,  0.05770539,  0.41255279,  0.35591507,\n",
       "          -1.01417977,  1.69993461,  1.28842897,  0.5824319 , -0.33867133,\n",
       "           4.24264527, -0.78791113,  1.39792294, -4.4282124 , -0.52778343,\n",
       "          -1.62624785,  1.90300911,  4.53944687,  4.67876572,  0.69721979,\n",
       "          -0.49175676, -2.19077001, -0.92189643,  1.67178781,  1.56216633]])))"
      ]
     },
     "execution_count": 18,
     "metadata": {},
     "output_type": "execute_result"
    }
   ],
   "source": [
    "backward(\n",
    "    x=np.random.randn(32, INPUT_SIZE),\n",
    "    y_true=np.random.randn(32, HIDDEN_SIZE),\n",
    "    y_pred=np.random.randn(32, HIDDEN_SIZE),\n",
    "    learn=True,\n",
    "    lr=0.001\n",
    ")"
   ]
  }
 ],
 "metadata": {
  "kernelspec": {
   "display_name": "Python 3",
   "language": "python",
   "name": "python3"
  },
  "language_info": {
   "codemirror_mode": {
    "name": "ipython",
    "version": 3
   },
   "file_extension": ".py",
   "mimetype": "text/x-python",
   "name": "python",
   "nbconvert_exporter": "python",
   "pygments_lexer": "ipython3",
   "version": "3.9.10"
  }
 },
 "nbformat": 4,
 "nbformat_minor": 2
}
