{
 "cells": [
  {
   "cell_type": "code",
   "execution_count": 394,
   "metadata": {},
   "outputs": [],
   "source": [
    "import numpy as np\n",
    "import matplotlib.pyplot as plt"
   ]
  },
  {
   "cell_type": "code",
   "execution_count": 395,
   "metadata": {},
   "outputs": [],
   "source": [
    "def print_data(*data):\n",
    "    for d in data:\n",
    "        print(f'Min: {d.min()}, Max: {d.max()}, shape: {d.shape}, dtype: {d.dtype}')"
   ]
  },
  {
   "cell_type": "code",
   "execution_count": 396,
   "metadata": {},
   "outputs": [],
   "source": [
    "embedding_dim = 50\n",
    "vocab_size = 10\n",
    "seq_length = 20"
   ]
  },
  {
   "cell_type": "code",
   "execution_count": 397,
   "metadata": {},
   "outputs": [
    {
     "name": "stdout",
     "output_type": "stream",
     "text": [
      "Embedding Data (first 2 rows):\n",
      "[[0.29004917 0.21613916 0.93748854 0.33171173 0.79715049 0.09494897\n",
      "  0.02106411 0.47041355 0.87829047 0.91092902 0.86348837 0.90229179\n",
      "  0.09012552 0.73967589 0.85501777 0.19176743 0.82236446 0.41472926\n",
      "  0.54586757 0.91728522 0.45800152 0.9747754  0.23128277 0.80054846\n",
      "  0.51035701 0.41642713 0.46461174 0.56769916 0.48803566 0.57701787\n",
      "  0.43644452 0.12132362 0.4428811  0.17387796 0.68874801 0.06914676\n",
      "  0.40433771 0.12881643 0.28906163 0.82147434 0.83193543 0.53782463\n",
      "  0.35972362 0.01722371 0.05775595 0.91386497 0.91572319 0.33049896\n",
      "  0.80827606 0.19578173]\n",
      " [0.29004917 0.21613916 0.93748854 0.33171173 0.79715049 0.09494897\n",
      "  0.02106411 0.47041355 0.87829047 0.91092902 0.86348837 0.90229179\n",
      "  0.09012552 0.73967589 0.85501777 0.19176743 0.82236446 0.41472926\n",
      "  0.54586757 0.91728522 0.45800152 0.9747754  0.23128277 0.80054846\n",
      "  0.51035701 0.41642713 0.46461174 0.56769916 0.48803566 0.57701787\n",
      "  0.43644452 0.12132362 0.4428811  0.17387796 0.68874801 0.06914676\n",
      "  0.40433771 0.12881643 0.28906163 0.82147434 0.83193543 0.53782463\n",
      "  0.35972362 0.01722371 0.05775595 0.91386497 0.91572319 0.33049896\n",
      "  0.80827606 0.19578173]]\n",
      "\n",
      "One-hot Output (word indices):\n",
      "[[0. 1. 0. 0. 0. 0. 0. 0. 0. 0.]\n",
      " [0. 0. 1. 0. 0. 0. 0. 0. 0. 0.]\n",
      " [0. 0. 0. 1. 0. 0. 0. 0. 0. 0.]\n",
      " [0. 0. 0. 0. 0. 0. 0. 1. 0. 0.]\n",
      " [0. 0. 0. 0. 0. 0. 0. 0. 1. 0.]\n",
      " [0. 0. 0. 0. 1. 0. 0. 0. 0. 0.]\n",
      " [0. 0. 0. 0. 0. 0. 1. 0. 0. 0.]\n",
      " [0. 0. 1. 0. 0. 0. 0. 0. 0. 0.]\n",
      " [0. 0. 0. 1. 0. 0. 0. 0. 0. 0.]\n",
      " [0. 0. 0. 0. 0. 0. 1. 0. 0. 0.]\n",
      " [0. 0. 0. 0. 1. 0. 0. 0. 0. 0.]\n",
      " [0. 0. 0. 0. 1. 0. 0. 0. 0. 0.]\n",
      " [0. 1. 0. 0. 0. 0. 0. 0. 0. 0.]\n",
      " [1. 0. 0. 0. 0. 0. 0. 0. 0. 0.]\n",
      " [0. 0. 1. 0. 0. 0. 0. 0. 0. 0.]\n",
      " [0. 0. 0. 0. 1. 0. 0. 0. 0. 0.]\n",
      " [0. 0. 0. 0. 0. 0. 0. 0. 0. 1.]\n",
      " [0. 0. 0. 1. 0. 0. 0. 0. 0. 0.]\n",
      " [1. 0. 0. 0. 0. 0. 0. 0. 0. 0.]\n",
      " [0. 1. 0. 0. 0. 0. 0. 0. 0. 0.]]\n"
     ]
    }
   ],
   "source": [
    "\n",
    "fixed_embedding = np.random.rand(embedding_dim)\n",
    "embedding_data = np.tile(fixed_embedding, (seq_length, 1))\n",
    "\n",
    "word_indices = np.random.randint(0, vocab_size, size=(seq_length,))\n",
    "one_hot_output = np.eye(vocab_size)[word_indices] # one_hot\n",
    "\n",
    "print(\"Embedding Data (first 2 rows):\")\n",
    "print(embedding_data[:2])\n",
    "print(\"\\nOne-hot Output (word indices):\")\n",
    "print(one_hot_output)\n",
    "\n",
    "X = embedding_data\n",
    "y = one_hot_output"
   ]
  },
  {
   "cell_type": "code",
   "execution_count": 398,
   "metadata": {},
   "outputs": [],
   "source": [
    "def tanh(x, derv=False):\n",
    "    if derv: return 1 - np.tanh(x)**2\n",
    "    return np.tanh(x)"
   ]
  },
  {
   "cell_type": "code",
   "execution_count": 399,
   "metadata": {},
   "outputs": [],
   "source": [
    "def derv_tanh(x):\n",
    "    return 1 - x**2"
   ]
  },
  {
   "cell_type": "code",
   "execution_count": 400,
   "metadata": {},
   "outputs": [],
   "source": [
    "def sigmoid(x, derv=False):\n",
    "    s = 1 / (1 + np.exp(-x))\n",
    "    if derv: return s * (1 - s)\n",
    "    return s"
   ]
  },
  {
   "cell_type": "code",
   "execution_count": 401,
   "metadata": {},
   "outputs": [],
   "source": [
    "def derv_sigmoid(x):\n",
    "    return x * (1 - x)"
   ]
  },
  {
   "cell_type": "code",
   "execution_count": 402,
   "metadata": {},
   "outputs": [],
   "source": [
    "def softmax(x, derv=False):\n",
    "    x_exp = np.exp(x - np.max(x, axis=1, keepdims=True))\n",
    "    s = x_exp / np.sum(x_exp, axis=1, keepdims=True)\n",
    "    if derv: return s * (1 - s)\n",
    "    return s"
   ]
  },
  {
   "cell_type": "code",
   "execution_count": null,
   "metadata": {},
   "outputs": [],
   "source": [
    "def CCE(y, y_pred, derv=False):\n",
    "    if derv: return y_pred-y # CCE + softmax\n",
    "    return np.mean(-y*np.log(y_pred+1e-8))"
   ]
  },
  {
   "cell_type": "code",
   "execution_count": 404,
   "metadata": {},
   "outputs": [],
   "source": [
    "INPUT_SIZE = embedding_dim\n",
    "HIDDEN_SIZE = 50\n",
    "OUTPUT_SIZE = vocab_size"
   ]
  },
  {
   "cell_type": "code",
   "execution_count": null,
   "metadata": {},
   "outputs": [],
   "source": [
    "def init_weights():\n",
    "    U = np.random.randn(INPUT_SIZE, HIDDEN_SIZE) * np.sqrt(2/(INPUT_SIZE+HIDDEN_SIZE))\n",
    "    W = np.random.randn(HIDDEN_SIZE, HIDDEN_SIZE) * np.sqrt(1/HIDDEN_SIZE)\n",
    "    b = np.zeros((1, HIDDEN_SIZE))\n",
    "    return U, W, b"
   ]
  },
  {
   "cell_type": "code",
   "execution_count": 406,
   "metadata": {},
   "outputs": [],
   "source": [
    "Uf, Wf, bf = init_weights()\n",
    "Ui, Wi, bi = init_weights()\n",
    "Uo, Wo, bo = init_weights()\n",
    "Ug, Wg, bg = init_weights()\n",
    "\n",
    "DenseW = np.random.randn(HIDDEN_SIZE, OUTPUT_SIZE)\n",
    "Denseb = np.zeros((1, OUTPUT_SIZE))\n",
    "\n",
    "params = [Uf, Wf, bf, Ui, Wi, bi, Uo, Wo, bo, Ug, Wg, bg, DenseW, Denseb]\n",
    "len_params = len(params)"
   ]
  },
  {
   "cell_type": "code",
   "execution_count": 407,
   "metadata": {},
   "outputs": [],
   "source": [
    "# Adam settings\n",
    "lr = 0.001\n",
    "current_lr = lr\n",
    "decay = 0\n",
    "t = 1\n",
    "m = [0] * len_params\n",
    "v = [0] * len_params\n",
    "beta_1 = 0.9\n",
    "beta_2 = 0.999\n",
    "epsilon_adam = 1e-8"
   ]
  },
  {
   "cell_type": "code",
   "execution_count": 408,
   "metadata": {},
   "outputs": [],
   "source": [
    "def optimizer_adam(grads, i):\n",
    "    m[i] = beta_1 * m[i] + (1 - beta_1) * grads\n",
    "    v[i] = beta_2 * v[i] + (1 - beta_2) * grads**2\n",
    "    m_h = m[i] / (1 - beta_1**t)\n",
    "    v_h = v[i] / (1 - beta_2**t)\n",
    "    return m_h / (np.sqrt(v_h) + epsilon_adam)"
   ]
  },
  {
   "cell_type": "code",
   "execution_count": 409,
   "metadata": {},
   "outputs": [],
   "source": [
    "def prev_update():\n",
    "    global current_lr\n",
    "    if decay:\n",
    "        current_lr = lr * (1 / (1 + decay * t))"
   ]
  },
  {
   "cell_type": "code",
   "execution_count": 410,
   "metadata": {},
   "outputs": [],
   "source": [
    "def step():\n",
    "    global t\n",
    "    t += 1"
   ]
  },
  {
   "cell_type": "code",
   "execution_count": 411,
   "metadata": {},
   "outputs": [],
   "source": [
    "def update_params(grads):\n",
    "    prev_update()\n",
    "    for i in range(len_params):\n",
    "        params[i] -= current_lr * optimizer_adam(grads[i], i)\n",
    "    step()"
   ]
  },
  {
   "cell_type": "code",
   "execution_count": 412,
   "metadata": {},
   "outputs": [],
   "source": [
    "def forward_cell(xt, h_prev, c_prev):\n",
    "    ft = sigmoid(xt @ Uf + h_prev @ Wf + bf)\n",
    "    it = sigmoid(xt @ Ui + h_prev @ Wi + bi)\n",
    "    ot = sigmoid(xt @ Uo + h_prev @ Wo + bo)\n",
    "    candt = tanh(xt @ Ug + h_prev @ Wg + bg)\n",
    "\n",
    "    ct = ft * c_prev + it * candt\n",
    "    ht = tanh(ct) * ot\n",
    "    return ht, ct, candt, ot, it, ft"
   ]
  },
  {
   "cell_type": "code",
   "execution_count": 413,
   "metadata": {},
   "outputs": [],
   "source": [
    "def forward(x):\n",
    "    T = x.shape[0]\n",
    "\n",
    "    H = np.zeros((T+1, 1, HIDDEN_SIZE))\n",
    "    C = np.zeros((T+1, 1, HIDDEN_SIZE))\n",
    "\n",
    "\n",
    "    Y = np.zeros((T, OUTPUT_SIZE))\n",
    "    O = np.zeros((T, 1, HIDDEN_SIZE))\n",
    "    I = np.zeros((T, 1, HIDDEN_SIZE))\n",
    "    F = np.zeros((T, 1, HIDDEN_SIZE))\n",
    "    Cand = np.zeros((T, 1, HIDDEN_SIZE))\n",
    "\n",
    "    for t in range(T):\n",
    "        H[t+1], C[t+1], candt, ot, it, ft = forward_cell(x[t], H[t], C[t])\n",
    "        Y[t] = softmax(H[t+1] @ DenseW + Denseb)\n",
    "        Cand[t] = candt\n",
    "        O[t] = ot\n",
    "        I[t] = it\n",
    "        F[t] = ft\n",
    "        \n",
    "    return Y, H, C, O, I, F, Cand"
   ]
  },
  {
   "cell_type": "code",
   "execution_count": 414,
   "metadata": {},
   "outputs": [],
   "source": [
    "def backward_cell(xt, h_prev, c_prev, c_current, candt, ot, it_gate, ft_gate, dh, dc_next):\n",
    "    d_ot = dh * tanh(c_current)\n",
    "    d_tanh_c = dh * ot\n",
    "    d_c_from_h = d_tanh_c * tanh(c_current, derv=True)\n",
    "\n",
    "    dct = d_c_from_h + dc_next\n",
    "    \n",
    "    d_ft = dct * c_prev\n",
    "    d_it = dct * candt\n",
    "    d_candt = dct * it_gate\n",
    "\n",
    "    d_ft_pre = d_ft * derv_sigmoid(ft_gate)\n",
    "    d_it_pre = d_it * derv_sigmoid(it_gate)\n",
    "    d_ot_pre = d_ot * derv_sigmoid(ot)\n",
    "    d_candt_pre = d_candt * derv_tanh(candt)\n",
    "\n",
    "    dUft = xt.T @ d_ft_pre\n",
    "    dWft = h_prev.T @ d_ft_pre\n",
    "    dbft = np.sum(d_ft_pre, axis=0, keepdims=True)\n",
    "\n",
    "    dUit = xt.T @ d_it_pre\n",
    "    dWit = h_prev.T @ d_it_pre\n",
    "    dbit = np.sum(d_it_pre, axis=0, keepdims=True)\n",
    "\n",
    "    dUot = xt.T @ d_ot_pre\n",
    "    dWot = h_prev.T @ d_ot_pre\n",
    "    dbot = np.sum(d_ot_pre, axis=0, keepdims=True)\n",
    "\n",
    "    dUgt = xt.T @ d_candt_pre\n",
    "    dWgt = h_prev.T @ d_candt_pre\n",
    "    dbgt = np.sum(d_candt_pre, axis=0, keepdims=True)\n",
    "\n",
    "    dx_t = (d_ft_pre @ Uf.T +\n",
    "                d_it_pre @ Ui.T +\n",
    "                d_ot_pre @ Uo.T +\n",
    "                d_candt_pre @ Ug.T)\n",
    "\n",
    "    dh_prev = (d_ft_pre @ Wf.T +\n",
    "                   d_it_pre @ Wi.T +\n",
    "                   d_ot_pre @ Wo.T +\n",
    "                   d_candt_pre @ Wg.T)\n",
    "    \n",
    "    dc_prev = dct * ft_gate\n",
    "\n",
    "    return (dUft, dWft, dbft,\n",
    "            dUit, dWit, dbit,\n",
    "            dUot, dWot, dbot,\n",
    "            dUgt, dWgt, dbgt,\n",
    "            dh_prev, dc_prev)"
   ]
  },
  {
   "cell_type": "code",
   "execution_count": 415,
   "metadata": {},
   "outputs": [],
   "source": [
    "def init_grads(U, W, b):\n",
    "    return np.zeros_like(U), np.zeros_like(W), np.zeros_like(b)"
   ]
  },
  {
   "cell_type": "code",
   "execution_count": 416,
   "metadata": {},
   "outputs": [],
   "source": [
    "def backward(x, y_true, y_pred, H, C, O, I, F, Cand, learn=True):\n",
    "    T = x.shape[0]\n",
    "\n",
    "    dUf, dWf, dbf = init_grads(Uf, Wf, bf)\n",
    "    dUi, dWi, dbi = init_grads(Ui, Wi, bi)\n",
    "    dUo, dWo, dbo = init_grads(Uo, Wo, bo)\n",
    "    dUg, dWg, dbg = init_grads(Ug, Wg, bg)\n",
    "    dDenseW = np.zeros_like(DenseW)\n",
    "    dDenseb = np.zeros_like(Denseb)\n",
    "\n",
    "    dh_next = np.zeros((1, HIDDEN_SIZE))\n",
    "    dc_next = np.zeros((1, HIDDEN_SIZE))\n",
    "\n",
    "    for t in reversed(range(T)):\n",
    "        xt    = x[t:t+1]\n",
    "        yt    = y_true[t:t+1]\n",
    "        outp  = y_pred[t:t+1]\n",
    "        h_prev = H[t]\n",
    "        h_t    = H[t+1]\n",
    "        c_prev = C[t]\n",
    "        c_t    = C[t+1]\n",
    "        candt  = Cand[t]\n",
    "        ot     = O[t]\n",
    "        it_gate= I[t]\n",
    "        ft_gate= F[t]\n",
    "\n",
    "        dEdy = CCE(yt, outp, derv=True)\n",
    "        dDenseW += h_t.T @ dEdy\n",
    "        dDenseb += np.sum(dEdy, axis=0, keepdims=True)\n",
    "        dh = dEdy @ DenseW.T + dh_next\n",
    "\n",
    "        (dUf_t, dWf_t, dbf_t,\n",
    "         dUi_t, dWi_t, dbi_t,\n",
    "         dUo_t, dWo_t, dbo_t,\n",
    "         dUg_t, dWg_t, dbg_t,\n",
    "         dh_prev, dc_prev) = backward_cell(xt, h_prev, c_prev, c_t, candt, ot, it_gate, ft_gate, dh, dc_next)\n",
    "\n",
    "        dUf += dUf_t; dWf += dWf_t; dbf += dbf_t\n",
    "        dUi += dUi_t; dWi += dWi_t; dbi += dbi_t\n",
    "        dUo += dUo_t; dWo += dWo_t; dbo += dbo_t\n",
    "        dUg += dUg_t; dWg += dWg_t; dbg += dbg_t\n",
    "\n",
    "        dh_next = dh_prev\n",
    "        dc_next = dc_prev\n",
    "\n",
    "    dUf /= T; dWf /= T; dbf /= T\n",
    "    dUi /= T; dWi /= T; dbi /= T\n",
    "    dUo /= T; dWo /= T; dbo /= T\n",
    "    dUg /= T; dWg /= T; dbg /= T\n",
    "    dDenseW /= T; dDenseb /= T\n",
    "\n",
    "    grads = dUf, dWf, dbf, dUi, dWi, dbi, dUo, dWo, dbo, dUg, dWg, dbg, dDenseW, dDenseb\n",
    "    \n",
    "    if learn:\n",
    "        update_params(grads)"
   ]
  },
  {
   "cell_type": "code",
   "execution_count": 417,
   "metadata": {},
   "outputs": [],
   "source": [
    "def train(x, y, epochs=100, batch_size=8, print_every=0.1):\n",
    "    losses = []\n",
    "    for epoch in range(1, epochs+1):\n",
    "        for batch in range(0, x.shape[0], batch_size):\n",
    "            x_batch = x[batch:batch+batch_size]\n",
    "            y_batch = y[batch:batch+batch_size]\n",
    "            y_pred, H, C, O, I, F, Cand = forward(x_batch)\n",
    "\n",
    "            backward(x_batch, y_batch, y_pred, H, C, O, I, F, Cand, learn=True)\n",
    "\n",
    "        loss = MSE(y, forward(x)[0])\n",
    "        losses.append(loss)\n",
    "        if epoch % max(1, int(epochs*print_every)) == 0:\n",
    "            print(f'Epoch: [{epoch}/{epochs}]> Loss: {loss}')\n",
    "            \n",
    "    return losses"
   ]
  },
  {
   "cell_type": "code",
   "execution_count": 418,
   "metadata": {},
   "outputs": [
    {
     "name": "stdout",
     "output_type": "stream",
     "text": [
      "Epoch: [10/100]> Loss: 0.08706533776403014\n",
      "Epoch: [20/100]> Loss: 0.08513737979244787\n",
      "Epoch: [30/100]> Loss: 0.08253505952561682\n",
      "Epoch: [40/100]> Loss: 0.07890352714839505\n",
      "Epoch: [50/100]> Loss: 0.07686844558470145\n",
      "Epoch: [60/100]> Loss: 0.07388598840721759\n",
      "Epoch: [70/100]> Loss: 0.07173887800991505\n",
      "Epoch: [80/100]> Loss: 0.06755128549657868\n",
      "Epoch: [90/100]> Loss: 0.060992046632812595\n",
      "Epoch: [100/100]> Loss: 0.05161742533974735\n"
     ]
    }
   ],
   "source": [
    "history_loss = train(x=X, y=y, epochs=100, batch_size=32, print_every=0.1)"
   ]
  },
  {
   "cell_type": "code",
   "execution_count": null,
   "metadata": {},
   "outputs": [
    {
     "data": {
      "image/png": "[encoded data removed]",
      "text/plain": [
       "<Figure size 1000x500 with 1 Axes>"
      ]
     },
     "metadata": {},
     "output_type": "display_data"
    }
   ],
   "source": [
    "plt.figure(figsize=(10, 5))\n",
    "plt.plot(np.array(history_loss), label='Loss', color='purple')\n",
    "plt.title('Training Loss History')\n",
    "plt.xlabel('Iterations')\n",
    "plt.ylabel('CCE Loss')\n",
    "plt.legend()\n",
    "plt.grid(True)\n",
    "plt.show()"
   ]
  }
 ],
 "metadata": {
  "kernelspec": {
   "display_name": "Python 3",
   "language": "python",
   "name": "python3"
  },
  "language_info": {
   "codemirror_mode": {
    "name": "ipython",
    "version": 3
   },
   "file_extension": ".py",
   "mimetype": "text/x-python",
   "name": "python",
   "nbconvert_exporter": "python",
   "pygments_lexer": "ipython3",
   "version": "3.9.10"
  }
 },
 "nbformat": 4,
 "nbformat_minor": 2
}
