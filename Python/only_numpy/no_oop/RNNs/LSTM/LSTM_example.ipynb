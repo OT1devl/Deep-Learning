{
 "cells": [
  {
   "cell_type": "code",
   "execution_count": 27,
   "metadata": {},
   "outputs": [],
   "source": [
    "import numpy as np\n",
    "import matplotlib.pyplot as plt"
   ]
  },
  {
   "cell_type": "code",
   "execution_count": 28,
   "metadata": {},
   "outputs": [],
   "source": [
    "def print_data(*data):\n",
    "    for d in data:\n",
    "        print(f'Min: {d.min()}, Max: {d.max()}, shape: {d.shape}, dtype: {d.dtype}')"
   ]
  },
  {
   "cell_type": "code",
   "execution_count": 29,
   "metadata": {},
   "outputs": [],
   "source": [
    "embedding_dim = 50\n",
    "vocab_size = 10\n",
    "seq_length = 20"
   ]
  },
  {
   "cell_type": "code",
   "execution_count": 30,
   "metadata": {},
   "outputs": [
    {
     "name": "stdout",
     "output_type": "stream",
     "text": [
      "Embedding Data (first 2 rows):\n",
      "[[0.63920329 0.82636157 0.82516412 0.76925228 0.56918717 0.3655586\n",
      "  0.60414297 0.34794491 0.82730789 0.16315537 0.72871497 0.9937678\n",
      "  0.38754125 0.76802644 0.54053611 0.63493671 0.60915767 0.74554753\n",
      "  0.53103355 0.12732589 0.49675479 0.11497618 0.76062938 0.41483401\n",
      "  0.42439436 0.27275543 0.30144108 0.07585207 0.28080001 0.719119\n",
      "  0.47403493 0.40320252 0.31933972 0.04335237 0.86075602 0.06877549\n",
      "  0.11901661 0.35632504 0.87000961 0.15915874 0.33378226 0.5951469\n",
      "  0.08983269 0.09493977 0.35862765 0.05176116 0.12883103 0.73881898\n",
      "  0.05438639 0.27118216]\n",
      " [0.63920329 0.82636157 0.82516412 0.76925228 0.56918717 0.3655586\n",
      "  0.60414297 0.34794491 0.82730789 0.16315537 0.72871497 0.9937678\n",
      "  0.38754125 0.76802644 0.54053611 0.63493671 0.60915767 0.74554753\n",
      "  0.53103355 0.12732589 0.49675479 0.11497618 0.76062938 0.41483401\n",
      "  0.42439436 0.27275543 0.30144108 0.07585207 0.28080001 0.719119\n",
      "  0.47403493 0.40320252 0.31933972 0.04335237 0.86075602 0.06877549\n",
      "  0.11901661 0.35632504 0.87000961 0.15915874 0.33378226 0.5951469\n",
      "  0.08983269 0.09493977 0.35862765 0.05176116 0.12883103 0.73881898\n",
      "  0.05438639 0.27118216]]\n",
      "\n",
      "One-hot Output (word indices):\n",
      "[[0. 0. 0. 0. 0. 0. 1. 0. 0. 0.]\n",
      " [0. 0. 0. 0. 0. 1. 0. 0. 0. 0.]\n",
      " [0. 0. 0. 1. 0. 0. 0. 0. 0. 0.]\n",
      " [0. 0. 0. 0. 0. 0. 0. 0. 1. 0.]\n",
      " [0. 1. 0. 0. 0. 0. 0. 0. 0. 0.]\n",
      " [0. 0. 0. 0. 0. 0. 0. 0. 1. 0.]\n",
      " [0. 1. 0. 0. 0. 0. 0. 0. 0. 0.]\n",
      " [0. 0. 0. 0. 1. 0. 0. 0. 0. 0.]\n",
      " [0. 0. 1. 0. 0. 0. 0. 0. 0. 0.]\n",
      " [1. 0. 0. 0. 0. 0. 0. 0. 0. 0.]\n",
      " [0. 0. 1. 0. 0. 0. 0. 0. 0. 0.]\n",
      " [0. 1. 0. 0. 0. 0. 0. 0. 0. 0.]\n",
      " [1. 0. 0. 0. 0. 0. 0. 0. 0. 0.]\n",
      " [0. 1. 0. 0. 0. 0. 0. 0. 0. 0.]\n",
      " [0. 0. 0. 0. 0. 0. 0. 0. 1. 0.]\n",
      " [0. 0. 0. 1. 0. 0. 0. 0. 0. 0.]\n",
      " [0. 0. 0. 0. 0. 1. 0. 0. 0. 0.]\n",
      " [0. 1. 0. 0. 0. 0. 0. 0. 0. 0.]\n",
      " [0. 0. 0. 0. 1. 0. 0. 0. 0. 0.]\n",
      " [0. 0. 0. 0. 0. 0. 0. 0. 1. 0.]]\n"
     ]
    }
   ],
   "source": [
    "\n",
    "fixed_embedding = np.random.rand(embedding_dim)\n",
    "embedding_data = np.tile(fixed_embedding, (seq_length, 1))\n",
    "\n",
    "word_indices = np.random.randint(0, vocab_size, size=(seq_length,))\n",
    "one_hot_output = np.eye(vocab_size)[word_indices] # one_hot\n",
    "\n",
    "print(\"Embedding Data (first 2 rows):\")\n",
    "print(embedding_data[:2])\n",
    "print(\"\\nOne-hot Output (word indices):\")\n",
    "print(one_hot_output)\n",
    "\n",
    "X = embedding_data\n",
    "y = one_hot_output"
   ]
  },
  {
   "cell_type": "code",
   "execution_count": 31,
   "metadata": {},
   "outputs": [],
   "source": [
    "def tanh(x, derv=False):\n",
    "    if derv: return 1 - np.tanh(x)**2\n",
    "    return np.tanh(x)"
   ]
  },
  {
   "cell_type": "code",
   "execution_count": 32,
   "metadata": {},
   "outputs": [],
   "source": [
    "def derv_tanh(x):\n",
    "    return 1 - x**2"
   ]
  },
  {
   "cell_type": "code",
   "execution_count": 33,
   "metadata": {},
   "outputs": [],
   "source": [
    "def sigmoid(x, derv=False):\n",
    "    s = 1 / (1 + np.exp(-x))\n",
    "    if derv: return s * (1 - s)\n",
    "    return s"
   ]
  },
  {
   "cell_type": "code",
   "execution_count": 34,
   "metadata": {},
   "outputs": [],
   "source": [
    "def derv_sigmoid(x):\n",
    "    return x * (1 - x)"
   ]
  },
  {
   "cell_type": "code",
   "execution_count": 35,
   "metadata": {},
   "outputs": [],
   "source": [
    "def softmax(x, derv=False):\n",
    "    x_exp = np.exp(x - np.max(x, axis=1, keepdims=True))\n",
    "    s = x_exp / np.sum(x_exp, axis=1, keepdims=True)\n",
    "    if derv: return s * (1 - s)\n",
    "    return s"
   ]
  },
  {
   "cell_type": "code",
   "execution_count": 36,
   "metadata": {},
   "outputs": [],
   "source": [
    "def CCE(y, y_pred, derv=False):\n",
    "    if derv: return y_pred-y # CCE + softmax\n",
    "    return np.mean(-y*np.log(y_pred+1e-8))"
   ]
  },
  {
   "cell_type": "code",
   "execution_count": 37,
   "metadata": {},
   "outputs": [],
   "source": [
    "INPUT_SIZE = embedding_dim\n",
    "HIDDEN_SIZE = 50\n",
    "OUTPUT_SIZE = vocab_size"
   ]
  },
  {
   "cell_type": "code",
   "execution_count": 38,
   "metadata": {},
   "outputs": [],
   "source": [
    "def init_weights():\n",
    "    U = np.random.randn(INPUT_SIZE, HIDDEN_SIZE) * np.sqrt(2/(INPUT_SIZE+HIDDEN_SIZE))\n",
    "    W = np.random.randn(HIDDEN_SIZE, HIDDEN_SIZE) * np.sqrt(1/HIDDEN_SIZE)\n",
    "    b = np.zeros((1, HIDDEN_SIZE))\n",
    "    return U, W, b"
   ]
  },
  {
   "cell_type": "code",
   "execution_count": 39,
   "metadata": {},
   "outputs": [],
   "source": [
    "Uf, Wf, bf = init_weights()\n",
    "Ui, Wi, bi = init_weights()\n",
    "Uo, Wo, bo = init_weights()\n",
    "Ug, Wg, bg = init_weights()\n",
    "\n",
    "DenseW = np.random.randn(HIDDEN_SIZE, OUTPUT_SIZE)\n",
    "Denseb = np.zeros((1, OUTPUT_SIZE))\n",
    "\n",
    "params = [Uf, Wf, bf, Ui, Wi, bi, Uo, Wo, bo, Ug, Wg, bg, DenseW, Denseb]\n",
    "len_params = len(params)"
   ]
  },
  {
   "cell_type": "code",
   "execution_count": 40,
   "metadata": {},
   "outputs": [],
   "source": [
    "# Adam settings\n",
    "lr = 0.001\n",
    "current_lr = lr\n",
    "decay = 0\n",
    "t = 1\n",
    "m = [0] * len_params\n",
    "v = [0] * len_params\n",
    "beta_1 = 0.9\n",
    "beta_2 = 0.999\n",
    "epsilon_adam = 1e-8"
   ]
  },
  {
   "cell_type": "code",
   "execution_count": 41,
   "metadata": {},
   "outputs": [],
   "source": [
    "def optimizer_adam(grads, i):\n",
    "    m[i] = beta_1 * m[i] + (1 - beta_1) * grads\n",
    "    v[i] = beta_2 * v[i] + (1 - beta_2) * grads**2\n",
    "    m_h = m[i] / (1 - beta_1**t)\n",
    "    v_h = v[i] / (1 - beta_2**t)\n",
    "    return m_h / (np.sqrt(v_h) + epsilon_adam)"
   ]
  },
  {
   "cell_type": "code",
   "execution_count": 42,
   "metadata": {},
   "outputs": [],
   "source": [
    "def prev_update():\n",
    "    global current_lr\n",
    "    if decay:\n",
    "        current_lr = lr * (1 / (1 + decay * t))"
   ]
  },
  {
   "cell_type": "code",
   "execution_count": 43,
   "metadata": {},
   "outputs": [],
   "source": [
    "def step():\n",
    "    global t\n",
    "    t += 1"
   ]
  },
  {
   "cell_type": "code",
   "execution_count": 44,
   "metadata": {},
   "outputs": [],
   "source": [
    "def update_params(grads):\n",
    "    prev_update()\n",
    "    for i in range(len_params):\n",
    "        params[i] -= current_lr * optimizer_adam(grads[i], i)\n",
    "    step()"
   ]
  },
  {
   "cell_type": "code",
   "execution_count": 45,
   "metadata": {},
   "outputs": [],
   "source": [
    "def forward_cell(xt, h_prev, c_prev):\n",
    "    ft = sigmoid(xt @ Uf + h_prev @ Wf + bf)\n",
    "    it = sigmoid(xt @ Ui + h_prev @ Wi + bi)\n",
    "    ot = sigmoid(xt @ Uo + h_prev @ Wo + bo)\n",
    "    candt = tanh(xt @ Ug + h_prev @ Wg + bg)\n",
    "\n",
    "    ct = ft * c_prev + it * candt\n",
    "    ht = tanh(ct) * ot\n",
    "    return ht, ct, candt, ot, it, ft"
   ]
  },
  {
   "cell_type": "code",
   "execution_count": 46,
   "metadata": {},
   "outputs": [],
   "source": [
    "def forward(x):\n",
    "    T = x.shape[0]\n",
    "\n",
    "    H = np.zeros((T+1, 1, HIDDEN_SIZE))\n",
    "    C = np.zeros((T+1, 1, HIDDEN_SIZE))\n",
    "\n",
    "\n",
    "    Y = np.zeros((T, OUTPUT_SIZE))\n",
    "    O = np.zeros((T, 1, HIDDEN_SIZE))\n",
    "    I = np.zeros((T, 1, HIDDEN_SIZE))\n",
    "    F = np.zeros((T, 1, HIDDEN_SIZE))\n",
    "    Cand = np.zeros((T, 1, HIDDEN_SIZE))\n",
    "\n",
    "    for t in range(T):\n",
    "        H[t+1], C[t+1], candt, ot, it, ft = forward_cell(x[t], H[t], C[t])\n",
    "        Y[t] = softmax(H[t+1] @ DenseW + Denseb)\n",
    "        Cand[t] = candt\n",
    "        O[t] = ot\n",
    "        I[t] = it\n",
    "        F[t] = ft\n",
    "        \n",
    "    return Y, H, C, O, I, F, Cand"
   ]
  },
  {
   "cell_type": "code",
   "execution_count": 47,
   "metadata": {},
   "outputs": [],
   "source": [
    "def backward_cell(xt, h_prev, c_prev, c_current, candt, ot, it_gate, ft_gate, dh, dc_next):\n",
    "    d_ot = dh * tanh(c_current)\n",
    "    d_tanh_c = dh * ot\n",
    "    d_c_from_h = d_tanh_c * tanh(c_current, derv=True)\n",
    "\n",
    "    dct = d_c_from_h + dc_next\n",
    "    \n",
    "    d_ft = dct * c_prev\n",
    "    d_it = dct * candt\n",
    "    d_candt = dct * it_gate\n",
    "\n",
    "    d_ft_pre = d_ft * derv_sigmoid(ft_gate)\n",
    "    d_it_pre = d_it * derv_sigmoid(it_gate)\n",
    "    d_ot_pre = d_ot * derv_sigmoid(ot)\n",
    "    d_candt_pre = d_candt * derv_tanh(candt)\n",
    "\n",
    "    dUft = xt.T @ d_ft_pre\n",
    "    dWft = h_prev.T @ d_ft_pre\n",
    "    dbft = np.sum(d_ft_pre, axis=0, keepdims=True)\n",
    "\n",
    "    dUit = xt.T @ d_it_pre\n",
    "    dWit = h_prev.T @ d_it_pre\n",
    "    dbit = np.sum(d_it_pre, axis=0, keepdims=True)\n",
    "\n",
    "    dUot = xt.T @ d_ot_pre\n",
    "    dWot = h_prev.T @ d_ot_pre\n",
    "    dbot = np.sum(d_ot_pre, axis=0, keepdims=True)\n",
    "\n",
    "    dUgt = xt.T @ d_candt_pre\n",
    "    dWgt = h_prev.T @ d_candt_pre\n",
    "    dbgt = np.sum(d_candt_pre, axis=0, keepdims=True)\n",
    "\n",
    "    dx_t = (d_ft_pre @ Uf.T +\n",
    "                d_it_pre @ Ui.T +\n",
    "                d_ot_pre @ Uo.T +\n",
    "                d_candt_pre @ Ug.T)\n",
    "\n",
    "    dh_prev = (d_ft_pre @ Wf.T +\n",
    "                   d_it_pre @ Wi.T +\n",
    "                   d_ot_pre @ Wo.T +\n",
    "                   d_candt_pre @ Wg.T)\n",
    "    \n",
    "    dc_prev = dct * ft_gate\n",
    "\n",
    "    return (dUft, dWft, dbft,\n",
    "            dUit, dWit, dbit,\n",
    "            dUot, dWot, dbot,\n",
    "            dUgt, dWgt, dbgt,\n",
    "            dh_prev, dc_prev, dx_t)"
   ]
  },
  {
   "cell_type": "code",
   "execution_count": 48,
   "metadata": {},
   "outputs": [],
   "source": [
    "def init_grads(U, W, b):\n",
    "    return np.zeros_like(U), np.zeros_like(W), np.zeros_like(b)"
   ]
  },
  {
   "cell_type": "code",
   "execution_count": null,
   "metadata": {},
   "outputs": [],
   "source": [
    "def backward(x, y_true, y_pred, H, C, O, I, F, Cand, learn=True):\n",
    "    T = x.shape[0]\n",
    "\n",
    "    dUf, dWf, dbf = init_grads(Uf, Wf, bf)\n",
    "    dUi, dWi, dbi = init_grads(Ui, Wi, bi)\n",
    "    dUo, dWo, dbo = init_grads(Uo, Wo, bo)\n",
    "    dUg, dWg, dbg = init_grads(Ug, Wg, bg)\n",
    "    dDenseW = np.zeros_like(DenseW)\n",
    "    dDenseb = np.zeros_like(Denseb)\n",
    "\n",
    "    dh_next = np.zeros((1, HIDDEN_SIZE))\n",
    "    dc_next = np.zeros((1, HIDDEN_SIZE))\n",
    "    dx = np.zeros_like(x)\n",
    "\n",
    "    for t in reversed(range(T)):\n",
    "        xt = x[t:t+1]\n",
    "        yt = y_true[t:t+1]\n",
    "        outp = y_pred[t:t+1]\n",
    "        h_prev = H[t]\n",
    "        h_t = H[t+1]\n",
    "        c_prev = C[t]\n",
    "        c_t = C[t+1]\n",
    "        candt = Cand[t]\n",
    "        ot = O[t]\n",
    "        it_gate= I[t]\n",
    "        ft_gate= F[t]\n",
    "\n",
    "        dEdy = CCE(yt, outp, derv=True)\n",
    "\n",
    "        dDenseW += h_t.T @ dEdy\n",
    "        dDenseb += np.sum(dEdy, axis=0, keepdims=True)\n",
    "        \n",
    "        dh = dEdy @ DenseW.T + dh_next\n",
    "\n",
    "        (dUf_t, dWf_t, dbf_t,\n",
    "         dUi_t, dWi_t, dbi_t,\n",
    "         dUo_t, dWo_t, dbo_t,\n",
    "         dUg_t, dWg_t, dbg_t,\n",
    "         dh_next, dc_next, dx[t]) = backward_cell(xt, h_prev, c_prev, c_t, candt, ot, it_gate, ft_gate, dh, dc_next)\n",
    "\n",
    "        dUf += dUf_t; dWf += dWf_t; dbf += dbf_t\n",
    "        dUi += dUi_t; dWi += dWi_t; dbi += dbi_t\n",
    "        dUo += dUo_t; dWo += dWo_t; dbo += dbo_t\n",
    "        dUg += dUg_t; dWg += dWg_t; dbg += dbg_t\n",
    "\n",
    "    dUf /= T; dWf /= T; dbf /= T\n",
    "    dUi /= T; dWi /= T; dbi /= T\n",
    "    dUo /= T; dWo /= T; dbo /= T\n",
    "    dUg /= T; dWg /= T; dbg /= T\n",
    "    dDenseW /= T; dDenseb /= T\n",
    "\n",
    "    grads = dUf, dWf, dbf, dUi, dWi, dbi, dUo, dWo, dbo, dUg, dWg, dbg, dDenseW, dDenseb\n",
    "    \n",
    "    if learn:\n",
    "        update_params(grads)\n",
    "\n",
    "    return dx, grads"
   ]
  },
  {
   "cell_type": "code",
   "execution_count": 50,
   "metadata": {},
   "outputs": [],
   "source": [
    "def train(x, y, epochs=100, batch_size=8, print_every=0.1):\n",
    "    losses = []\n",
    "    for epoch in range(1, epochs+1):\n",
    "        for batch in range(0, x.shape[0], batch_size):\n",
    "            x_batch = x[batch:batch+batch_size]\n",
    "            y_batch = y[batch:batch+batch_size]\n",
    "            y_pred, H, C, O, I, F, Cand = forward(x_batch)\n",
    "\n",
    "            backward(x_batch, y_batch, y_pred, H, C, O, I, F, Cand, learn=True)\n",
    "\n",
    "        loss = CCE(y, forward(x)[0])\n",
    "        losses.append(loss)\n",
    "        if epoch % max(1, int(epochs*print_every)) == 0:\n",
    "            print(f'Epoch: [{epoch}/{epochs}]> Loss: {loss}')\n",
    "            \n",
    "    return losses"
   ]
  },
  {
   "cell_type": "code",
   "execution_count": 51,
   "metadata": {},
   "outputs": [
    {
     "name": "stdout",
     "output_type": "stream",
     "text": [
      "Epoch: [10/100]> Loss: 0.19943274374723066\n",
      "Epoch: [20/100]> Loss: 0.18654605191419946\n",
      "Epoch: [30/100]> Loss: 0.17909503906902743\n",
      "Epoch: [40/100]> Loss: 0.1716180650650128\n",
      "Epoch: [50/100]> Loss: 0.1582982362381383\n",
      "Epoch: [60/100]> Loss: 0.14129029337211102\n",
      "Epoch: [70/100]> Loss: 0.12643219242139075\n",
      "Epoch: [80/100]> Loss: 0.10924327933696552\n",
      "Epoch: [90/100]> Loss: 0.09193413956733364\n",
      "Epoch: [100/100]> Loss: 0.07298482550853334\n"
     ]
    }
   ],
   "source": [
    "history_loss = train(x=X, y=y, epochs=100, batch_size=32, print_every=0.1)"
   ]
  },
  {
   "cell_type": "code",
   "execution_count": 52,
   "metadata": {},
   "outputs": [
    {
     "data": {
      "image/png": "[encoded data removed]",
      "text/plain": [
       "<Figure size 1000x500 with 1 Axes>"
      ]
     },
     "metadata": {},
     "output_type": "display_data"
    }
   ],
   "source": [
    "plt.figure(figsize=(10, 5))\n",
    "plt.plot(np.array(history_loss), label='Loss', color='purple')\n",
    "plt.title('Training Loss History')\n",
    "plt.xlabel('Iterations')\n",
    "plt.ylabel('CCE Loss')\n",
    "plt.legend()\n",
    "plt.grid(True)\n",
    "plt.show()"
   ]
  }
 ],
 "metadata": {
  "kernelspec": {
   "display_name": "Python 3",
   "language": "python",
   "name": "python3"
  },
  "language_info": {
   "codemirror_mode": {
    "name": "ipython",
    "version": 3
   },
   "file_extension": ".py",
   "mimetype": "text/x-python",
   "name": "python",
   "nbconvert_exporter": "python",
   "pygments_lexer": "ipython3",
   "version": "3.9.10"
  }
 },
 "nbformat": 4,
 "nbformat_minor": 2
}
