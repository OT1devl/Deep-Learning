{
 "cells": [
  {
   "cell_type": "code",
   "execution_count": 43,
   "metadata": {},
   "outputs": [],
   "source": [
    "import numpy as np\n",
    "import pandas as pd\n",
    "import matplotlib.pyplot as plt"
   ]
  },
  {
   "cell_type": "code",
   "execution_count": null,
   "metadata": {},
   "outputs": [],
   "source": [
    "path = r'\\Deep Learning\\datasets\\digits'\n",
    "path_train = path + r'\\train.csv'\n",
    "path_test = path + r'\\test.csv'"
   ]
  },
  {
   "cell_type": "code",
   "execution_count": 45,
   "metadata": {},
   "outputs": [],
   "source": [
    "def one_hot(data, num_classes):\n",
    "    new_data = np.zeros((data.shape[0], num_classes))\n",
    "    new_data[np.arange(data.shape[0]), data] = 1\n",
    "    return new_data"
   ]
  },
  {
   "cell_type": "code",
   "execution_count": 46,
   "metadata": {},
   "outputs": [],
   "source": [
    "data_train = np.array(pd.read_csv(path_train))\n",
    "data_test = np.array(pd.read_csv(path_test))"
   ]
  },
  {
   "cell_type": "code",
   "execution_count": 47,
   "metadata": {},
   "outputs": [],
   "source": [
    "X_train = data_train[:, 1:] / 255.0\n",
    "y_train = one_hot(data_train[:, 0], 10)\n",
    "\n",
    "X_test = data_test / 255.0"
   ]
  },
  {
   "cell_type": "code",
   "execution_count": 48,
   "metadata": {},
   "outputs": [],
   "source": [
    "def ReLU(x, derv=False):\n",
    "    if derv: return np.where(x>0, 1, 0)\n",
    "    return np.maximum(x, 0)"
   ]
  },
  {
   "cell_type": "code",
   "execution_count": 49,
   "metadata": {},
   "outputs": [],
   "source": [
    "def softmax(x, derv=False):\n",
    "    x_exp = np.exp(x - np.max(x, axis=1, keepdims=True))\n",
    "    s = x_exp / x_exp.sum(axis=1, keepdims=True)\n",
    "    if derv: return s * (1 - s)\n",
    "    return s"
   ]
  },
  {
   "cell_type": "code",
   "execution_count": 50,
   "metadata": {},
   "outputs": [],
   "source": [
    "def CCE(y, y_pred, epsilon=1e-8, derv=False):\n",
    "    if derv: return y_pred-y # In this case\n",
    "    return -np.mean(y*np.log(y_pred+epsilon))"
   ]
  },
  {
   "cell_type": "code",
   "execution_count": 51,
   "metadata": {},
   "outputs": [],
   "source": [
    "def accuracy(y, y_pred):\n",
    "    return np.mean(np.argmax(y, axis=1)==np.argmax(y_pred, axis=1))"
   ]
  },
  {
   "cell_type": "code",
   "execution_count": 52,
   "metadata": {},
   "outputs": [],
   "source": [
    "n_INPUTS = X_train.shape[1]\n",
    "n_hidden1 = 64\n",
    "n_hidden2 = 32\n",
    "n_OUTPUTS = y_train.shape[1]"
   ]
  },
  {
   "cell_type": "code",
   "execution_count": 53,
   "metadata": {},
   "outputs": [],
   "source": [
    "# Layer 1\n",
    "W0 = np.random.randn(n_INPUTS, n_hidden1) * np.sqrt(2/n_INPUTS)\n",
    "b0 = np.zeros((1, n_hidden1))\n",
    "\n",
    "# Layer 2\n",
    "W1 = np.random.randn(n_hidden1, n_hidden2) * np.sqrt(2/n_hidden1)\n",
    "b1 = np.zeros((1, n_hidden2))\n",
    "\n",
    "# Layer 3\n",
    "W2 = np.random.randn(n_hidden2, n_OUTPUTS) * np.sqrt(2/n_hidden2)\n",
    "b2 = np.zeros((1, n_OUTPUTS))\n",
    "\n",
    "params = [W0, b0, W1, b1, W2, b2]\n",
    "len_params = len(params)"
   ]
  },
  {
   "cell_type": "code",
   "execution_count": 54,
   "metadata": {},
   "outputs": [],
   "source": [
    "# Hyperparameters\n",
    "EPOCHS = 5\n",
    "BATCH_SIZE = 128\n",
    "PRINT_EVERY = 0.1"
   ]
  },
  {
   "cell_type": "code",
   "execution_count": 55,
   "metadata": {},
   "outputs": [],
   "source": [
    "# Adadelta settings\n",
    "decay = 0\n",
    "cache = [0] * len_params\n",
    "delta = [0] * len_params\n",
    "rho = 0.95\n",
    "t = 1\n",
    "epsilon_adadelta = 1e-8"
   ]
  },
  {
   "cell_type": "code",
   "execution_count": null,
   "metadata": {},
   "outputs": [],
   "source": [
    "def adadelta_optimizer(grads, i):\n",
    "    cache[i] = rho * cache[i] + (1 - rho) * grads**2\n",
    "    update = (np.sqrt(delta[i] + epsilon_adadelta) / np.sqrt(cache[i] + epsilon_adadelta)) * grads\n",
    "    delta[i] = rho * delta[i] + (1 - rho) * update**2\n",
    "    return update"
   ]
  },
  {
   "cell_type": "code",
   "execution_count": 57,
   "metadata": {},
   "outputs": [],
   "source": [
    "def forward(x):\n",
    "    global z0, a0, z1, a1, z2, a2\n",
    "    \n",
    "    z0 = x @ W0 + b0\n",
    "    a0 = ReLU(z0)\n",
    "    \n",
    "    z1 = a0 @ W1 + b1\n",
    "    a1 = ReLU(z1)\n",
    "\n",
    "    z2 = a1 @ W2 + b2\n",
    "    a2 = softmax(z2)\n",
    "\n",
    "    return a2"
   ]
  },
  {
   "cell_type": "code",
   "execution_count": 58,
   "metadata": {},
   "outputs": [],
   "source": [
    "def prev_update():\n",
    "    pass"
   ]
  },
  {
   "cell_type": "code",
   "execution_count": 59,
   "metadata": {},
   "outputs": [],
   "source": [
    "def post_update():\n",
    "    global t\n",
    "    t += 1"
   ]
  },
  {
   "cell_type": "code",
   "execution_count": 60,
   "metadata": {},
   "outputs": [],
   "source": [
    "def update_params(grads):\n",
    "    prev_update()\n",
    "    for i in range(len_params):\n",
    "        params[i] -= adadelta_optimizer(grads[i], i)\n",
    "    post_update()"
   ]
  },
  {
   "cell_type": "code",
   "execution_count": 61,
   "metadata": {},
   "outputs": [],
   "source": [
    "def backward(x=None, y=None, outp=None, deltas=None, learn=True):\n",
    "    if y is not None:\n",
    "        dL = CCE(y, outp, derv=True)\n",
    "    elif deltas is not None:\n",
    "        dL = deltas\n",
    "    else: raise ValueError('There is no (y) or (deltas).')\n",
    "    # dL *= softmax(z2, derv=True)\n",
    "    m = dL.shape[0]\n",
    "\n",
    "    dW2 = a1.T @ dL / m\n",
    "    db2 = dL.sum(axis=0, keepdims=True) / m\n",
    "\n",
    "    da1 = dL @ W2.T\n",
    "    dz1 = da1 * ReLU(z1, derv=True)\n",
    "\n",
    "    dW1 = a0.T @ dz1 / m\n",
    "    db1 = dz1.sum(axis=0, keepdims=True) / m\n",
    "\n",
    "    da0 = dz1 @ W1.T\n",
    "    dz0 = da0 * ReLU(z0, derv=True)\n",
    "\n",
    "    dW0 = x.T @ dz0 / m\n",
    "    db0 = dz0.sum(axis=0, keepdims=True) / m\n",
    "\n",
    "    deltas = dz0 @ W0.T\n",
    "\n",
    "    if learn:\n",
    "        update_params((dW0, db0, dW1, db1, dW2, db2))\n",
    "    \n",
    "    return deltas, dW0, dW1, dW2, db0, db1, db2"
   ]
  },
  {
   "cell_type": "code",
   "execution_count": 62,
   "metadata": {},
   "outputs": [],
   "source": [
    "def train(x, y, epochs=150, batch_size=128, print_every=0.1, shuffle=True):\n",
    "    for epoch in range(1, epochs+1):\n",
    "        if shuffle:\n",
    "            indices = np.arange(x.shape[0])\n",
    "            np.random.shuffle(indices)\n",
    "            x = x[indices]\n",
    "            y = y[indices]\n",
    "        \n",
    "        for batch in range(0, x.shape[0], batch_size):\n",
    "            x_batch = x[batch:batch+batch_size]\n",
    "            y_batch = y[batch:batch+batch_size]\n",
    "\n",
    "            predictions = forward(x_batch)\n",
    "            backward(x_batch, y_batch, predictions, learn=True)\n",
    "\n",
    "        if epoch % max(1, int(epochs * print_every)) == 0:\n",
    "            loss = CCE(y, forward(x))\n",
    "            acc = accuracy(y, forward(x))\n",
    "            print(f'Epochs: [{epoch}/{epochs}]> Loss: {loss:.4f} | Acc: {acc:.4f}')"
   ]
  },
  {
   "cell_type": "code",
   "execution_count": 63,
   "metadata": {},
   "outputs": [
    {
     "name": "stdout",
     "output_type": "stream",
     "text": [
      "Epochs: [1/5]> Loss: 0.0329 | Acc: 0.9089\n",
      "Epochs: [2/5]> Loss: 0.0266 | Acc: 0.9203\n",
      "Epochs: [3/5]> Loss: 0.0213 | Acc: 0.9404\n",
      "Epochs: [4/5]> Loss: 0.0190 | Acc: 0.9464\n",
      "Epochs: [5/5]> Loss: 0.0176 | Acc: 0.9507\n"
     ]
    }
   ],
   "source": [
    "train(\n",
    "    x=X_train,\n",
    "    y=y_train,\n",
    "    epochs=EPOCHS,\n",
    "    batch_size=BATCH_SIZE,\n",
    "    print_every=PRINT_EVERY,\n",
    "    shuffle=True\n",
    ")"
   ]
  },
  {
   "cell_type": "code",
   "execution_count": 64,
   "metadata": {},
   "outputs": [
    {
     "data": {
      "text/plain": [
       "np.float64(0.9506666666666667)"
      ]
     },
     "execution_count": 64,
     "metadata": {},
     "output_type": "execute_result"
    }
   ],
   "source": [
    "accuracy(y_train, forward(X_train))"
   ]
  },
  {
   "cell_type": "code",
   "execution_count": 74,
   "metadata": {},
   "outputs": [
    {
     "name": "stdout",
     "output_type": "stream",
     "text": [
      "Prediction: 4\n"
     ]
    },
    {
     "data": {
      "image/png": "[encoded data removed]",
      "text/plain": [
       "<Figure size 640x480 with 1 Axes>"
      ]
     },
     "metadata": {},
     "output_type": "display_data"
    }
   ],
   "source": [
    "random_idx = np.random.randint(0, X_test.shape[0])\n",
    "random_image = X_test[random_idx]\n",
    "print(f'Prediction: {np.argmax(forward(random_image.reshape(1, -1)))}')\n",
    "plt.imshow(random_image.reshape(28, 28))\n",
    "plt.show()"
   ]
  }
 ],
 "metadata": {
  "kernelspec": {
   "display_name": "Python 3",
   "language": "python",
   "name": "python3"
  },
  "language_info": {
   "codemirror_mode": {
    "name": "ipython",
    "version": 3
   },
   "file_extension": ".py",
   "mimetype": "text/x-python",
   "name": "python",
   "nbconvert_exporter": "python",
   "pygments_lexer": "ipython3",
   "version": "3.9.10"
  }
 },
 "nbformat": 4,
 "nbformat_minor": 2
}
