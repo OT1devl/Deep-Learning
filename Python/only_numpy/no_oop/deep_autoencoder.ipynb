{
 "cells": [
  {
   "cell_type": "code",
   "execution_count": 1,
   "metadata": {},
   "outputs": [],
   "source": [
    "import numpy as np\n",
    "import pandas as pd\n",
    "import matplotlib.pyplot as plt"
   ]
  },
  {
   "cell_type": "code",
   "execution_count": 2,
   "metadata": {},
   "outputs": [],
   "source": [
    "def print_shapes(*data):\n",
    "    for d in data:\n",
    "        print(d.shape)"
   ]
  },
  {
   "cell_type": "code",
   "execution_count": 3,
   "metadata": {},
   "outputs": [],
   "source": [
    "def print_min_max(*data):\n",
    "    for d in data:\n",
    "        print(f'Min: {d.min()} Max: {d.max()}')"
   ]
  },
  {
   "cell_type": "code",
   "execution_count": 4,
   "metadata": {},
   "outputs": [],
   "source": [
    "def make_noise(data, noise_level=0.25):\n",
    "    vectors = []\n",
    "    for v in data:\n",
    "        noise = np.abs(np.random.randn(len(v)) * noise_level)\n",
    "        noised_v = v + noise\n",
    "        normalized_v = noised_v - np.min(noised_v)\n",
    "        max_value = np.max(normalized_v)\n",
    "        if max_value == 0: normalized_v = np.zeros_like(normalized_v)\n",
    "        else: normalized_v = normalized_v / max_value\n",
    "        vectors.append(normalized_v)\n",
    "    return np.array(vectors)"
   ]
  },
  {
   "cell_type": "code",
   "execution_count": 5,
   "metadata": {},
   "outputs": [],
   "source": [
    "path = r\"C:\\Users\\nacho\\Desktop\\myGithub\\Deep Learning\\datasets\\digits\"\n",
    "path_train = path + r'\\train.csv'\n",
    "path_test = path + r'\\test.csv'"
   ]
  },
  {
   "cell_type": "code",
   "execution_count": 6,
   "metadata": {},
   "outputs": [],
   "source": [
    "train_data = np.array(pd.read_csv(path_train)).astype(np.float32)\n",
    "test_data = np.array(pd.read_csv(path_test)).astype(np.float32)"
   ]
  },
  {
   "cell_type": "code",
   "execution_count": 7,
   "metadata": {},
   "outputs": [],
   "source": [
    "Y_train = train_data[:,1:] / 255.0\n",
    "Y_test = test_data / 255.0\n",
    "X_train = make_noise(Y_train)\n",
    "X_test = make_noise(Y_test)"
   ]
  },
  {
   "cell_type": "code",
   "execution_count": 8,
   "metadata": {},
   "outputs": [
    {
     "name": "stdout",
     "output_type": "stream",
     "text": [
      "(42000, 784)\n",
      "(28000, 784)\n"
     ]
    }
   ],
   "source": [
    "print_shapes(X_train, X_test)"
   ]
  },
  {
   "cell_type": "code",
   "execution_count": 9,
   "metadata": {},
   "outputs": [
    {
     "name": "stdout",
     "output_type": "stream",
     "text": [
      "Min: 0.0 Max: 1.0\n",
      "Min: 0.0 Max: 1.0\n"
     ]
    }
   ],
   "source": [
    "print_min_max(X_train, X_test)"
   ]
  },
  {
   "cell_type": "code",
   "execution_count": 10,
   "metadata": {},
   "outputs": [
    {
     "data": {
      "image/png": "[encoded data removed]",
      "text/plain": [
       "<Figure size 400x1000 with 8 Axes>"
      ]
     },
     "metadata": {},
     "output_type": "display_data"
    }
   ],
   "source": [
    "imgs = 4\n",
    "\n",
    "fig, axes = plt.subplots(imgs, 2, figsize=(4, 10))\n",
    "fig.suptitle(\"Original (Y) vs Noisy (X)\", fontsize=12, y=0.95)\n",
    "\n",
    "for i in range(imgs):\n",
    "    axes[i, 0].imshow(Y_train[i].reshape(28, 28), cmap=\"gray\", interpolation=\"nearest\")\n",
    "    axes[i, 0].axis(\"off\")\n",
    "\n",
    "    axes[i, 1].imshow(X_train[i].reshape(28, 28), cmap=\"gray\", interpolation=\"nearest\")\n",
    "    axes[i, 1].axis(\"off\")\n",
    "\n",
    "plt.subplots_adjust(wspace=0.05, hspace=0.05)\n",
    "plt.show()"
   ]
  },
  {
   "cell_type": "code",
   "execution_count": 11,
   "metadata": {},
   "outputs": [],
   "source": [
    "def ReLU(x, derv=False):\n",
    "    if derv: return np.where(x>0, 1, 0)\n",
    "    return np.maximum(x, 0)"
   ]
  },
  {
   "cell_type": "code",
   "execution_count": 12,
   "metadata": {},
   "outputs": [],
   "source": [
    "def sigmoid(x, derv=False):\n",
    "    s = 1 / (1 + np.exp(-x))\n",
    "    if derv: return s * (1 - s)\n",
    "    return s"
   ]
  },
  {
   "cell_type": "code",
   "execution_count": 13,
   "metadata": {},
   "outputs": [],
   "source": [
    "def BCE(y, y_pred, epsilon=1e-8, derv=False):\n",
    "    if derv: return y_pred-y#-y/(y_pred+epsilon)+(1-y)/(1-y_pred+epsilon)\n",
    "    return -np.mean(y * np.log(y_pred + epsilon) + (1 - y) * np.log(1 - y_pred + epsilon))"
   ]
  },
  {
   "cell_type": "code",
   "execution_count": 14,
   "metadata": {},
   "outputs": [],
   "source": [
    "n_INPUTS = X_train.shape[1]\n",
    "n_hidden0 = 128\n",
    "\n",
    "latent = 64\n",
    "\n",
    "n_hidden1 = 128\n",
    "n_OUTPUTS = Y_train.shape[1]"
   ]
  },
  {
   "cell_type": "code",
   "execution_count": 15,
   "metadata": {},
   "outputs": [],
   "source": [
    "# Encoder\n",
    "encoder_W0 = np.random.randn(n_INPUTS, n_hidden0) * np.sqrt(2/n_INPUTS)\n",
    "encoder_b0 = np.zeros((1, n_hidden0))\n",
    "\n",
    "encoder_W1 = np.random.randn(n_hidden0, latent) * np.sqrt(2/n_hidden0)\n",
    "encoder_b1 = np.zeros((1, latent))\n",
    "\n",
    "# Decoder\n",
    "decoder_W0 = np.random.randn(latent, n_hidden1) * np.sqrt(2/latent)\n",
    "decoder_b0 = np.zeros((1, n_hidden1))\n",
    "\n",
    "decoder_W1 = np.random.randn(n_hidden1, n_OUTPUTS) * np.sqrt(2/n_hidden1)\n",
    "decoder_b1 = np.zeros((1, n_OUTPUTS))"
   ]
  },
  {
   "cell_type": "code",
   "execution_count": 16,
   "metadata": {},
   "outputs": [],
   "source": [
    "def forward_encoder(X):\n",
    "    global encoder_z0, encoder_a0, encoder_z1, encoder_a1\n",
    "    \n",
    "    encoder_z0 = X @ encoder_W0 + encoder_b0\n",
    "    encoder_a0 = ReLU(encoder_z0)\n",
    "\n",
    "    encoder_z1 = encoder_a0 @ encoder_W1 + encoder_b1\n",
    "    encoder_a1 = ReLU(encoder_z1)\n",
    "\n",
    "    return encoder_a1"
   ]
  },
  {
   "cell_type": "code",
   "execution_count": 17,
   "metadata": {},
   "outputs": [],
   "source": [
    "def forward_decoder(X):\n",
    "    global decoder_z0, decoder_a0, decoder_z1, decoder_a1\n",
    "    \n",
    "    decoder_z0 = X @ decoder_W0 + decoder_b0\n",
    "    decoder_a0 = ReLU(decoder_z0)\n",
    "\n",
    "    decoder_z1 = decoder_a0 @ decoder_W1 + decoder_b1\n",
    "    decoder_a1 = sigmoid(decoder_z1)\n",
    "\n",
    "    return decoder_a1"
   ]
  },
  {
   "cell_type": "code",
   "execution_count": 18,
   "metadata": {},
   "outputs": [],
   "source": [
    "def forward_autoencoder(X):\n",
    "    return forward_decoder(forward_encoder(X))"
   ]
  },
  {
   "cell_type": "code",
   "execution_count": 19,
   "metadata": {},
   "outputs": [],
   "source": [
    "def update_encoder(dW0, db0, dW1, db1, lr):\n",
    "    global encoder_W0, encoder_W1, encoder_b0, encoder_b1\n",
    "\n",
    "    encoder_W0 -= lr * dW0\n",
    "    encoder_b0 -= lr * db0\n",
    "\n",
    "    encoder_W1 -= lr * dW1\n",
    "    encoder_b1 -= lr * db1"
   ]
  },
  {
   "cell_type": "code",
   "execution_count": 20,
   "metadata": {},
   "outputs": [],
   "source": [
    "def update_decoder(dW0, db0, dW1, db1, lr):\n",
    "    global decoder_W0, decoder_W1, decoder_b0, decoder_b1\n",
    "\n",
    "    decoder_W0 -= lr * dW0\n",
    "    decoder_b0 -= lr * db0\n",
    "\n",
    "    decoder_W1 -= lr * dW1\n",
    "    decoder_b1 -= lr * db1"
   ]
  },
  {
   "cell_type": "code",
   "execution_count": 21,
   "metadata": {},
   "outputs": [],
   "source": [
    "def backward_decoder(x=None, y=None, outp=None, deltas=None, learn=True, lr=0.01):\n",
    "    if y is not None:\n",
    "        dL = BCE(y, outp, derv=True)\n",
    "    elif deltas is not None:\n",
    "        dL = deltas\n",
    "    else: raise ValueError('There is no (y) or (deltas).')\n",
    "    # dL *= sigmoid(decoder_z1, derv=True)\n",
    "    m = dL.shape[1]\n",
    "\n",
    "    dW1 = decoder_a0.T @ dL / m\n",
    "    db1 = dL.sum(axis=0, keepdims=True) / m\n",
    "\n",
    "    da0 = dL @ decoder_W1.T\n",
    "    dz0 = da0 * ReLU(decoder_z0, derv=True)\n",
    "\n",
    "    dW0 = x.T @ dz0 / m\n",
    "    db0 = dz0.sum(axis=0, keepdims=True) / m\n",
    "\n",
    "    deltas = dz0 @ decoder_W0.T\n",
    "\n",
    "    if learn:\n",
    "        update_decoder(dW0, db0, dW1, db1, lr)\n",
    "    \n",
    "    return deltas, dW0, db0, dW1, db1"
   ]
  },
  {
   "cell_type": "code",
   "execution_count": 22,
   "metadata": {},
   "outputs": [],
   "source": [
    "def backward_encoder(x=None, y=None, outp=None, deltas=None, learn=True, lr=0.01):\n",
    "    if y is not None:\n",
    "        dL = BCE(y, outp, derv=True)\n",
    "    elif deltas is not None:\n",
    "        dL = deltas\n",
    "    else: raise ValueError('There is no (y) or (deltas).')\n",
    "    dL *= ReLU(encoder_z1, derv=True)\n",
    "    m = dL.shape[1]\n",
    "\n",
    "    dW1 = encoder_a0.T @ dL / m\n",
    "    db1 = dL.sum(axis=0, keepdims=True) / m\n",
    "\n",
    "    da0 = dL @ encoder_W1.T\n",
    "    dz0 = da0 * ReLU(encoder_z0, derv=True)\n",
    "\n",
    "    dW0 = x.T @ dz0 / m\n",
    "    db0 = dz0.sum(axis=0, keepdims=True) / m\n",
    "\n",
    "    deltas = dz0 @ encoder_W0.T\n",
    "\n",
    "    if learn:\n",
    "        update_encoder(dW0, db0, dW1, db1, lr)\n",
    "    \n",
    "    return deltas, dW0, db0, dW1, db1\n"
   ]
  },
  {
   "cell_type": "code",
   "execution_count": 23,
   "metadata": {},
   "outputs": [],
   "source": [
    "def train(x, y, epochs=100, batch_size=32, lr=0.01, print_every=0.1):\n",
    "    for epoch in range(1, epochs+1):\n",
    "        indices = np.arange(x.shape[0])\n",
    "        np.random.shuffle(indices)\n",
    "        x = x[indices]\n",
    "        y = y[indices]\n",
    "        \n",
    "        for batch in range(0, x.shape[0], batch_size):\n",
    "            x_batch = x[batch:batch+batch_size]\n",
    "            y_batch = y[batch:batch+batch_size]\n",
    "\n",
    "            latent = forward_encoder(x_batch)\n",
    "            predictions = forward_decoder(latent)\n",
    "            \n",
    "            deltas = backward_decoder(latent, y_batch, predictions, lr=lr)[0]\n",
    "            backward_encoder(x_batch, deltas=deltas, lr=lr)\n",
    "\n",
    "        if epoch % max(1, int(epochs*print_every)) == 0:\n",
    "            print(f'Epochs: [{epoch}/{epochs}]> Loss: {BCE(y, forward_autoencoder(x)):.4f}')"
   ]
  },
  {
   "cell_type": "code",
   "execution_count": 24,
   "metadata": {},
   "outputs": [
    {
     "name": "stdout",
     "output_type": "stream",
     "text": [
      "Epochs: [4/40]> Loss: 0.1765\n",
      "Epochs: [8/40]> Loss: 0.1477\n",
      "Epochs: [12/40]> Loss: 0.1302\n",
      "Epochs: [16/40]> Loss: 0.1214\n",
      "Epochs: [20/40]> Loss: 0.1151\n",
      "Epochs: [24/40]> Loss: 0.1144\n",
      "Epochs: [28/40]> Loss: 0.1090\n",
      "Epochs: [32/40]> Loss: 0.1075\n",
      "Epochs: [36/40]> Loss: 0.1030\n",
      "Epochs: [40/40]> Loss: 0.1018\n"
     ]
    }
   ],
   "source": [
    "train(\n",
    "    x=X_train,\n",
    "    y=Y_train,\n",
    "    epochs=40,\n",
    "    batch_size=128,\n",
    "    lr=0.005,\n",
    "    print_every=0.1\n",
    ")"
   ]
  },
  {
   "cell_type": "code",
   "execution_count": 50,
   "metadata": {},
   "outputs": [
    {
     "data": {
      "image/png": "[encoded data removed]",
      "text/plain": [
       "<Figure size 900x300 with 3 Axes>"
      ]
     },
     "metadata": {},
     "output_type": "display_data"
    }
   ],
   "source": [
    "idx = np.random.randint(0, X_test.shape[0])\n",
    "noisy_img = X_test[idx].reshape(28, 28)\n",
    "real_img = Y_test[idx].reshape(28, 28)\n",
    "\n",
    "filtered_img = forward_autoencoder(X_test[idx].reshape(1, -1)).reshape(28, 28)\n",
    "\n",
    "fig, axes = plt.subplots(1, 3, figsize=(9, 3))\n",
    "fig.suptitle(\"Comparison: Noisy, Filtered, and Real Image\", fontsize=14)\n",
    "\n",
    "axes[0].imshow(noisy_img, cmap=\"gray\", interpolation=\"nearest\")\n",
    "axes[0].set_title(\"Noisy\")\n",
    "axes[0].axis(\"off\")\n",
    "\n",
    "axes[1].imshow(filtered_img, cmap=\"gray\", interpolation=\"nearest\")\n",
    "axes[1].set_title(\"Filtered\")\n",
    "axes[1].axis(\"off\")\n",
    "\n",
    "axes[2].imshow(real_img, cmap=\"gray\", interpolation=\"nearest\")\n",
    "axes[2].set_title(\"Real\")\n",
    "axes[2].axis(\"off\")\n",
    "\n",
    "plt.tight_layout()\n",
    "plt.show()"
   ]
  }
 ],
 "metadata": {
  "kernelspec": {
   "display_name": "Python 3",
   "language": "python",
   "name": "python3"
  },
  "language_info": {
   "codemirror_mode": {
    "name": "ipython",
    "version": 3
   },
   "file_extension": ".py",
   "mimetype": "text/x-python",
   "name": "python",
   "nbconvert_exporter": "python",
   "pygments_lexer": "ipython3",
   "version": "3.9.10"
  }
 },
 "nbformat": 4,
 "nbformat_minor": 2
}
