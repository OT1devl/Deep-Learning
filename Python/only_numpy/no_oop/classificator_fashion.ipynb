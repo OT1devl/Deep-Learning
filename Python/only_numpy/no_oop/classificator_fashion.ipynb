{
 "cells": [
  {
   "cell_type": "code",
   "execution_count": 89,
   "metadata": {},
   "outputs": [],
   "source": [
    "import numpy as np\n",
    "import cv2 as cv\n",
    "import os"
   ]
  },
  {
   "cell_type": "code",
   "execution_count": 90,
   "metadata": {},
   "outputs": [],
   "source": [
    "def load_data(path, split_data=1):\n",
    "    data = []\n",
    "    labels = []\n",
    "    listpath = os.listdir(path)\n",
    "    total = len(listpath)\n",
    "    for subpath in listpath:\n",
    "        complete_subpath = os.path.join(path, subpath)\n",
    "        images = os.listdir(complete_subpath)\n",
    "        total_images = len(images)\n",
    "        labels.extend([int(subpath) for _ in range(int(total_images*split_data))])\n",
    "        for idx, image_name in enumerate(images[:int(total_images*split_data)]):\n",
    "            image_path = os.path.join(complete_subpath, image_name)\n",
    "            image = cv.cvtColor(cv.imread(image_path), cv.COLOR_BGR2GRAY).reshape(-1)\n",
    "            data.append(image)\n",
    "            print(f'Images: [{idx+1}/{int(total_images*split_data)}]> in label [{subpath}/{total-1}]', end='\\r')\n",
    "    return np.array(data), np.array(labels)"
   ]
  },
  {
   "cell_type": "code",
   "execution_count": 91,
   "metadata": {},
   "outputs": [],
   "source": [
    "def one_hot(data, num_classes):\n",
    "    new_data = np.zeros((data.shape[0], num_classes))\n",
    "    new_data[np.arange(data.shape[0]), data] = 1\n",
    "    return new_data"
   ]
  },
  {
   "cell_type": "code",
   "execution_count": 92,
   "metadata": {},
   "outputs": [],
   "source": [
    "path = r'\\datasets\\fashion_mnist_images' # Complete the path\n",
    "path_train = path + r'\\train'\n",
    "path_test = path + r'\\test'"
   ]
  },
  {
   "cell_type": "code",
   "execution_count": 93,
   "metadata": {},
   "outputs": [
    {
     "name": "stdout",
     "output_type": "stream",
     "text": [
      "Images: [1000/1000]> in label [9/9]\r"
     ]
    }
   ],
   "source": [
    "X_train, y_train = load_data(path_train)\n",
    "X_test, y_test = load_data(path_test)"
   ]
  },
  {
   "cell_type": "code",
   "execution_count": 94,
   "metadata": {},
   "outputs": [],
   "source": [
    "X_train = X_train.astype(np.float32) / 255.0\n",
    "X_test = X_test.astype(np.float32) / 255.0\n",
    "y_train = one_hot(y_train, 10)\n",
    "y_test = one_hot(y_test, 10)"
   ]
  },
  {
   "cell_type": "code",
   "execution_count": 95,
   "metadata": {},
   "outputs": [],
   "source": [
    "def ReLU(x, derv=False):\n",
    "    if derv: return np.where(x>0, 1, 0)\n",
    "    return np.maximum(x, 0)"
   ]
  },
  {
   "cell_type": "code",
   "execution_count": 96,
   "metadata": {},
   "outputs": [],
   "source": [
    "def softmax(x, derv=False):\n",
    "    x_exp = np.exp(x - np.max(x, axis=1, keepdims=True))\n",
    "    s = x_exp / x_exp.sum(axis=1, keepdims=True)\n",
    "    if derv: return s * (1 - s)\n",
    "    return s"
   ]
  },
  {
   "cell_type": "code",
   "execution_count": 97,
   "metadata": {},
   "outputs": [],
   "source": [
    "def CCE(y, y_pred, epsilon=1e-8, derv=False):\n",
    "    if derv: return y_pred-y # In this case\n",
    "    return -np.mean(y*np.log(y_pred+epsilon))"
   ]
  },
  {
   "cell_type": "code",
   "execution_count": 98,
   "metadata": {},
   "outputs": [],
   "source": [
    "def accuracy(y, y_pred):\n",
    "    return np.mean(np.argmax(y, axis=1)==np.argmax(y_pred, axis=1))"
   ]
  },
  {
   "cell_type": "code",
   "execution_count": 99,
   "metadata": {},
   "outputs": [],
   "source": [
    "n_INPUTS = X_train.shape[1]\n",
    "n_hidden = 64\n",
    "n_OUTPUTS = y_train.shape[1]"
   ]
  },
  {
   "cell_type": "code",
   "execution_count": 100,
   "metadata": {},
   "outputs": [],
   "source": [
    "# Layer 1\n",
    "W0 = np.random.randn(n_INPUTS, n_hidden) * np.sqrt(2/n_INPUTS)\n",
    "b0 = np.zeros((1, n_hidden))\n",
    "\n",
    "# Layer 2\n",
    "W1 = np.random.randn(n_hidden, n_OUTPUTS) * np.sqrt(2/n_hidden)\n",
    "b1 = np.zeros((1, n_OUTPUTS))"
   ]
  },
  {
   "cell_type": "code",
   "execution_count": 101,
   "metadata": {},
   "outputs": [],
   "source": [
    "def forward(x):\n",
    "    global z0, a0, z1, a1\n",
    "    \n",
    "    z0 = x @ W0 + b0\n",
    "    a0 = ReLU(z0)\n",
    "    \n",
    "    z1 = a0 @ W1 + b1\n",
    "    a1 = softmax(z1)\n",
    "\n",
    "    return a1"
   ]
  },
  {
   "cell_type": "code",
   "execution_count": 102,
   "metadata": {},
   "outputs": [],
   "source": [
    "def update_params(dW0, db0, dW1, db1, lr):\n",
    "    global W0, W1, b0, b1\n",
    "\n",
    "    W1 -= lr * dW1\n",
    "    b1 -= lr * db1\n",
    "\n",
    "    W0 -= lr * dW0\n",
    "    b0 -= lr * db0"
   ]
  },
  {
   "cell_type": "code",
   "execution_count": 103,
   "metadata": {},
   "outputs": [],
   "source": [
    "def backward(x=None, y=None, outp=None, deltas=None, learn=False, lr=0.01):\n",
    "    if y is not None:\n",
    "        dL = CCE(y, outp, derv=True)\n",
    "    elif deltas is not None:\n",
    "        dL = deltas # We are not gonna use this.\n",
    "    else: raise ValueError('There are no (y) or (deltas).')\n",
    "    # dL *= softmax(z1, derv=True)\n",
    "    m = dL.shape[0]\n",
    "\n",
    "    dW1 = a0.T @ dL / m\n",
    "    db1 = dL.sum(axis=0, keepdims=True) / m\n",
    "\n",
    "    da0 = dL @ W1.T\n",
    "    dz0 = da0 * ReLU(z0, derv=True)\n",
    "\n",
    "    dW0 = x.T @ dz0 / m\n",
    "    db0 = dz0.sum(axis=0, keepdims=True) / m\n",
    "\n",
    "    deltas = dz0 @ W0.T\n",
    "\n",
    "    if learn:\n",
    "        update_params(dW0, db0, dW1, db1, lr)\n",
    "\n",
    "    return deltas, dW0, db0, dW1, db1"
   ]
  },
  {
   "cell_type": "code",
   "execution_count": 104,
   "metadata": {},
   "outputs": [],
   "source": [
    "def train(x, y, epochs=100, batch_size=32, lr=0.01, print_every=0.1):\n",
    "    for epoch in range(1, epochs+1):\n",
    "        for batch in range(0, x.shape[0], batch_size):\n",
    "            x_batch = x[batch:batch+batch_size]\n",
    "            y_batch = y[batch:batch+batch_size]\n",
    "\n",
    "            predictions = forward(x_batch)\n",
    "\n",
    "            backward(x_batch, y_batch, predictions, learn=True, lr=lr)\n",
    "\n",
    "        if epoch % max(1, int(epochs*print_every)) == 0:\n",
    "            print(f'Epochs: [{epoch}/{epochs}]> Loss: {CCE(y, forward(x)):.4f}')"
   ]
  },
  {
   "cell_type": "code",
   "execution_count": 105,
   "metadata": {},
   "outputs": [
    {
     "name": "stdout",
     "output_type": "stream",
     "text": [
      "Epochs: [10/100]> Loss: 0.1348\n",
      "Epochs: [20/100]> Loss: 0.1259\n",
      "Epochs: [30/100]> Loss: 0.1216\n",
      "Epochs: [40/100]> Loss: 0.1178\n",
      "Epochs: [50/100]> Loss: 0.1142\n",
      "Epochs: [60/100]> Loss: 0.1109\n",
      "Epochs: [70/100]> Loss: 0.1069\n",
      "Epochs: [80/100]> Loss: 0.1028\n",
      "Epochs: [90/100]> Loss: 0.1007\n",
      "Epochs: [100/100]> Loss: 0.0987\n"
     ]
    }
   ],
   "source": [
    "train(\n",
    "    x=X_train,\n",
    "    y=y_train,\n",
    "    epochs=100,\n",
    "    batch_size=128,\n",
    "    lr=0.001,\n",
    "    print_every=0.1\n",
    ")"
   ]
  },
  {
   "cell_type": "code",
   "execution_count": 106,
   "metadata": {},
   "outputs": [
    {
     "data": {
      "text/plain": [
       "np.float64(0.6465)"
      ]
     },
     "execution_count": 106,
     "metadata": {},
     "output_type": "execute_result"
    }
   ],
   "source": [
    "accuracy(y_test, forward(X_test))"
   ]
  }
 ],
 "metadata": {
  "kernelspec": {
   "display_name": "Python 3",
   "language": "python",
   "name": "python3"
  },
  "language_info": {
   "codemirror_mode": {
    "name": "ipython",
    "version": 3
   },
   "file_extension": ".py",
   "mimetype": "text/x-python",
   "name": "python",
   "nbconvert_exporter": "python",
   "pygments_lexer": "ipython3",
   "version": "3.9.10"
  }
 },
 "nbformat": 4,
 "nbformat_minor": 2
}
