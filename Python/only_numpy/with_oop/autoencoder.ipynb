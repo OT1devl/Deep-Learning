{
 "cells": [
  {
   "cell_type": "code",
   "execution_count": 1,
   "metadata": {},
   "outputs": [],
   "source": [
    "import numpy as np\n",
    "import pandas as pd\n",
    "import matplotlib.pyplot as plt\n",
    "from classes import *"
   ]
  },
  {
   "cell_type": "code",
   "execution_count": 2,
   "metadata": {},
   "outputs": [],
   "source": [
    "DTYPE = np.float32"
   ]
  },
  {
   "cell_type": "code",
   "execution_count": 3,
   "metadata": {},
   "outputs": [],
   "source": [
    "path = r'C:\\Users\\nacho\\Desktop\\myGithub\\Deep-Learning\\datasets\\digits'\n",
    "path_train = path + r'\\train.csv'\n",
    "path_test = path + r'\\test.csv'"
   ]
  },
  {
   "cell_type": "code",
   "execution_count": 4,
   "metadata": {},
   "outputs": [],
   "source": [
    "data_train = np.array(pd.read_csv(path_train))\n",
    "data_test = np.array(pd.read_csv(path_test))"
   ]
  },
  {
   "cell_type": "code",
   "execution_count": 5,
   "metadata": {},
   "outputs": [],
   "source": [
    "X_train = data_train[:, 1:] / 255.0\n",
    "X_test = data_test / 255.0"
   ]
  },
  {
   "cell_type": "code",
   "execution_count": 6,
   "metadata": {},
   "outputs": [],
   "source": [
    "X_train = X_train.astype(DTYPE)\n",
    "X_test = X_test.astype(DTYPE)"
   ]
  },
  {
   "cell_type": "code",
   "execution_count": 7,
   "metadata": {},
   "outputs": [],
   "source": [
    "model = AutoEncoder(\n",
    "    encoder_neurons=(X_train.shape[1], 64),\n",
    "    encoder_activations=[ReLU()],\n",
    "    decoder_neurons=(64, X_train.shape[1]),\n",
    "    decoder_activations=[Sigmoid()]\n",
    ")"
   ]
  },
  {
   "cell_type": "code",
   "execution_count": 8,
   "metadata": {},
   "outputs": [],
   "source": [
    "model.compile(\n",
    "    loss=BinaryCrossEntropy(),\n",
    "    optimizer=Adam(),\n",
    "    accuracy=FactorBinaryAccuracy()\n",
    ")"
   ]
  },
  {
   "cell_type": "code",
   "execution_count": 9,
   "metadata": {},
   "outputs": [
    {
     "name": "stdout",
     "output_type": "stream",
     "text": [
      "Epoch: 2, Loss: 0.11160729550027716, Acc: 0.8120660328914665, Test Loss: 0.06636307308179566, Test Acc: 0.5424691084338992\n",
      "Epoch: 4, Loss: 0.0861018211031098, Acc: 0.8144846123380862, Test Loss: 0.055886356198794826, Test Acc: 0.5432547144856799\n",
      "Epoch: 6, Loss: 0.08034473475861252, Acc: 0.814804005577688, Test Loss: 0.05301021238432614, Test Acc: 0.5433905832595599\n",
      "Epoch: 8, Loss: 0.07701957275326705, Acc: 0.8149545563088245, Test Loss: 0.05113318014917204, Test Acc: 0.5434624459801043\n",
      "Epoch: 10, Loss: 0.07566485112150326, Acc: 0.8150069745363893, Test Loss: 0.050417329971164826, Test Acc: 0.5434875023782345\n"
     ]
    }
   ],
   "source": [
    "model.train(\n",
    "    x=X_train,\n",
    "    y=X_train,\n",
    "    epochs=10,\n",
    "    batch_size=64,\n",
    "    verbose=True,\n",
    "    print_every=2,\n",
    "    x_test=X_test,\n",
    "    y_test=X_test\n",
    ")"
   ]
  },
  {
   "cell_type": "code",
   "execution_count": 10,
   "metadata": {},
   "outputs": [
    {
     "data": {
      "image/png": "[encoded data removed]",
      "text/plain": [
       "<Figure size 1500x500 with 3 Axes>"
      ]
     },
     "metadata": {},
     "output_type": "display_data"
    }
   ],
   "source": [
    "random_idx = np.random.randint(0, X_test.shape[0])\n",
    "random_image = X_test[random_idx]\n",
    "\n",
    "filtered, latent = model.forward(random_image)\n",
    "\n",
    "fig, axes = plt.subplots(1, 3, figsize=(15, 5))\n",
    "\n",
    "axes[0].imshow(random_image.reshape(28, 28), cmap='gray')\n",
    "axes[0].set_title(\"Imagen Original\")\n",
    "axes[0].axis(\"off\")\n",
    "\n",
    "axes[1].imshow(filtered.reshape(28, 28), cmap='gray')\n",
    "axes[1].set_title(\"Imagen Filtrada\")\n",
    "axes[1].axis(\"off\")\n",
    "\n",
    "axes[2].imshow(latent.reshape(8, 8), cmap='gray', aspect='auto')\n",
    "axes[2].set_title(\"Espacio Latente\")\n",
    "axes[2].axis(\"off\")\n",
    "\n",
    "plt.show()"
   ]
  }
 ],
 "metadata": {
  "kernelspec": {
   "display_name": "Python 3",
   "language": "python",
   "name": "python3"
  },
  "language_info": {
   "codemirror_mode": {
    "name": "ipython",
    "version": 3
   },
   "file_extension": ".py",
   "mimetype": "text/x-python",
   "name": "python",
   "nbconvert_exporter": "python",
   "pygments_lexer": "ipython3",
   "version": "3.9.10"
  }
 },
 "nbformat": 4,
 "nbformat_minor": 2
}
